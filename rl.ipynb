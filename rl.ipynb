{
 "cells": [
  {
   "cell_type": "code",
   "execution_count": 1,
   "metadata": {},
   "outputs": [],
   "source": [
    "from tinyphysics import TinyPhysicsModel, TinyPhysicsSimulator, CONTROL_START_IDX\n",
    "from controllers import pid, BaseController\n",
    "from matplotlib import pyplot as plt\n",
    "import seaborn as sns\n",
    "\n",
    "sns.set_theme()\n"
   ]
  },
  {
   "cell_type": "code",
   "execution_count": 2,
   "metadata": {
    "tags": []
   },
   "outputs": [],
   "source": [
    "from typing import List\n",
    "from collections import namedtuple\n",
    "\n",
    "State = namedtuple('State', ['roll_lataccel', 'v_ego', 'a_ego'])\n",
    "\n",
    "class MyPhysicsModel(TinyPhysicsModel):\n",
    "    def __init__(self, model_path: str, debug: bool) -> None:\n",
    "        super().__init__(model_path, debug)\n",
    "        \n",
    "    def get_current_lataccel(self, sim_states: List[State], actions: List[float], past_preds: List[float]) -> float:\n",
    "        tokenized_actions = self.tokenizer.encode(past_preds)\n",
    "        raw_states = [list(x) for x in sim_states]\n",
    "        states = np.column_stack([actions, raw_states])\n",
    "        input_data = {\n",
    "          'states': np.expand_dims(states, axis=0).astype(np.float32),\n",
    "          'tokens': np.expand_dims(tokenized_actions, axis=0).astype(np.int64)\n",
    "        }\n",
    "        return self.tokenizer.decode(self.predict(input_data, temperature=0.0001))"
   ]
  },
  {
   "cell_type": "code",
   "execution_count": 3,
   "metadata": {},
   "outputs": [],
   "source": [
    "ACC_G = 9.81\n",
    "FPS = 10\n",
    "CONTROL_START_IDX = 100\n",
    "COST_END_IDX = 500\n",
    "CONTEXT_LENGTH = 20\n",
    "VOCAB_SIZE = 1024\n",
    "LATACCEL_RANGE = [-5, 5]\n",
    "STEER_RANGE = [-2, 2]\n",
    "MAX_ACC_DELTA = 0.5\n",
    "DEL_T = 0.1\n",
    "LAT_ACCEL_COST_MULTIPLIER = 50.0\n",
    "\n",
    "FUTURE_PLAN_STEPS = FPS * 5  # 5 secs\n",
    "from typing import List, Union, Tuple\n",
    "import pandas as pd\n",
    "from collections import namedtuple\n",
    "\n",
    "FuturePlan = namedtuple('FuturePlan', ['lataccel', 'roll_lataccel', 'v_ego', 'a_ego'])\n",
    "\n",
    "class MySimulator(TinyPhysicsSimulator):\n",
    "    \n",
    "    def __init__(self, model: TinyPhysicsModel, data_path: str, controller: BaseController, debug: bool = False) -> None:\n",
    "        super().__init__(model, data_path, controller, debug)\n",
    "        \n",
    "        \n",
    "    def sim_step(self, step_idx: int, force_action=False) -> None:\n",
    "        try:\n",
    "            pred = self.sim_model.get_current_lataccel(\n",
    "              sim_states=self.state_history[-CONTEXT_LENGTH:],\n",
    "              actions=self.action_history[-CONTEXT_LENGTH:],\n",
    "              past_preds=self.current_lataccel_history[-CONTEXT_LENGTH:]\n",
    "            )\n",
    "        except:\n",
    "            print(self.state_history[-CONTEXT_LENGTH:], self.action_history[-CONTEXT_LENGTH:], self.current_lataccel_history[-CONTEXT_LENGTH:])\n",
    "        pred = np.clip(pred, self.current_lataccel - MAX_ACC_DELTA, self.current_lataccel + MAX_ACC_DELTA)\n",
    "        if step_idx >= CONTROL_START_IDX or force_action:\n",
    "            self.current_lataccel = pred\n",
    "        else:\n",
    "            self.current_lataccel = self.get_state_target_futureplan(step_idx)[1]\n",
    "        self.current_lataccel_history.append(self.current_lataccel)\n",
    "\n",
    "        \n",
    "    def control_step(self, step_idx: int, steer_action: float, force_action=False) -> None:\n",
    "        #action = self.controller.update(self.target_lataccel_history[step_idx], self.current_lataccel, self.state_history[step_idx], future_plan=self.futureplan)\n",
    "        #if force_action or (step_idx >= CONTROL_START_IDX and steer_action is not None and not pd.isna(steer_action)):\n",
    "        if step_idx >= CONTROL_START_IDX and steer_action is not None:\n",
    "            action = steer_action\n",
    "        else:\n",
    "            action = self.data['steer_command'].values[step_idx]\n",
    "        action = np.clip(action, STEER_RANGE[0], STEER_RANGE[1])\n",
    "        self.action_history.append(action)\n",
    "        \n",
    "    def get_state_target_futureplan(self, step_idx: int) -> Tuple[State, float]:\n",
    "        state = self.data.iloc[step_idx]\n",
    "        return (\n",
    "            State(roll_lataccel=state['roll_lataccel'], v_ego=state['v_ego'], a_ego=state['a_ego']),\n",
    "            state['target_lataccel'],\n",
    "            FuturePlan(\n",
    "                lataccel=self.data['target_lataccel'].values[step_idx + 1 :step_idx + FUTURE_PLAN_STEPS].tolist(),\n",
    "                roll_lataccel=self.data['roll_lataccel'].values[step_idx + 1 :step_idx + FUTURE_PLAN_STEPS].tolist(),\n",
    "                v_ego=self.data['v_ego'].values[step_idx + 1 :step_idx + FUTURE_PLAN_STEPS].tolist(),\n",
    "                a_ego=self.data['a_ego'].values[step_idx + 1 :step_idx + FUTURE_PLAN_STEPS].tolist()\n",
    "            )\n",
    "        )\n",
    "        \n",
    "    def step(self, steer_action=None, force_action=False) -> None:\n",
    "        state, target, futureplan = self.get_state_target_futureplan(self.step_idx)\n",
    "        self.state_history.append(state)\n",
    "        self.target_lataccel_history.append(target)\n",
    "        self.futureplan = futureplan\n",
    "        self.control_step(self.step_idx, steer_action, force_action)\n",
    "        self.sim_step(self.step_idx, force_action)\n",
    "        self.step_idx += 1\n",
    "        \n",
    "    def reverse_step(self) -> None:\n",
    "        self.step_idx -= 1\n",
    "        self.state_history.pop()\n",
    "        self.target_lataccel_history.pop()\n",
    "        self.action_history.pop()\n",
    "        self.current_lataccel_history.pop()\n",
    "        state, target, futureplan = self.get_state_target_futureplan(self.step_idx)\n",
    "        self.futureplan = futureplan\n",
    "        self.current_lataccel = self.current_lataccel_history[-1]\n",
    "        \n",
    "    def compute_cost(self, unit=False) -> dict:\n",
    "        if unit:\n",
    "            target = np.array(self.target_lataccel_history)[self.step_idx - 2:self.step_idx]\n",
    "            pred = np.array(self.current_lataccel_history)[self.step_idx - 2:self.step_idx]\n",
    "        else:\n",
    "            target = np.array(self.target_lataccel_history)[CONTROL_START_IDX:COST_END_IDX]\n",
    "            pred = np.array(self.current_lataccel_history)[CONTROL_START_IDX:COST_END_IDX]\n",
    "            \n",
    "        lat_accel_cost = np.mean((target - pred)**2) * 100\n",
    "        jerk_cost = np.mean((np.diff(pred) / DEL_T)**2) * 100\n",
    "            \n",
    "        total_cost = (lat_accel_cost * LAT_ACCEL_COST_MULTIPLIER) + jerk_cost\n",
    "        return {'lataccel_cost': lat_accel_cost, 'jerk_cost': jerk_cost, 'total_cost': total_cost}"
   ]
  },
  {
   "cell_type": "code",
   "execution_count": 4,
   "metadata": {},
   "outputs": [],
   "source": [
    "class BaselineRecord:\n",
    "    \n",
    "    def __init__(self, baseline):\n",
    "        self.current_lataccel_history = baseline.current_lataccel_history\n",
    "        self.target_lataccel_history = baseline.target_lataccel_history\n",
    "        self.state_history = baseline.state_history\n",
    "        self.action_history = baseline.action_history\n",
    "        self.cost = baseline.compute_cost()\n",
    "    \n",
    "    def compute_cost(self):\n",
    "        return self.cost"
   ]
  },
  {
   "cell_type": "code",
   "execution_count": 20,
   "metadata": {},
   "outputs": [],
   "source": [
    "import pickle\n",
    "\n",
    "with open('baselines.pkl', 'rb') as handle:\n",
    "    baselines = pickle.load(handle)"
   ]
  },
  {
   "cell_type": "code",
   "execution_count": 5,
   "metadata": {},
   "outputs": [],
   "source": [
    "def plot_rollout(sim):\n",
    "    fig, ax = plt.subplots(figsize=(10, 5))\n",
    "    ax.plot(sim.target_lataccel_history, label=\"Target Lateral Acceleration\", alpha=0.5)\n",
    "    ax.plot(sim.current_lataccel_history, label=\"Actual Lateral Acceleration\", alpha=0.5)\n",
    "    ax.legend()\n",
    "    ax.set_xlabel(\"Step\")\n",
    "    ax.set_ylabel(\"Lateral Acceleration\")\n",
    "    ax.set_title(\"Rollout\")\n",
    "    plt.show()"
   ]
  },
  {
   "cell_type": "code",
   "execution_count": 121,
   "metadata": {},
   "outputs": [],
   "source": [
    "driving_model = TinyPhysicsModel(\"./models/tinyphysics.onnx\", debug=True)"
   ]
  },
  {
   "cell_type": "code",
   "execution_count": 6,
   "metadata": {},
   "outputs": [],
   "source": [
    "driving_model = MyPhysicsModel(\"./models/tinyphysics.onnx\", debug=True)"
   ]
  },
  {
   "cell_type": "code",
   "execution_count": 9,
   "metadata": {
    "tags": []
   },
   "outputs": [],
   "source": [
    "model = TinyPhysicsModel(\"./models/tinyphysics.onnx\", debug=True)\n",
    "controller = pid.Controller()"
   ]
  },
  {
   "cell_type": "code",
   "execution_count": 80,
   "metadata": {},
   "outputs": [],
   "source": [
    "testController2 = Controller()"
   ]
  },
  {
   "cell_type": "code",
   "execution_count": 34,
   "metadata": {
    "tags": []
   },
   "outputs": [
    {
     "data": {
      "text/plain": [
       "{'lataccel_cost': 10.977058512086137,\n",
       " 'jerk_cost': 70.9973176851279,\n",
       " 'total_cost': 619.8502432894347}"
      ]
     },
     "execution_count": 34,
     "metadata": {},
     "output_type": "execute_result"
    }
   ],
   "source": [
    "testController2 = Controller()\n",
    "noisy_driving_model = TinyPhysicsModel(\"./models/tinyphysics.onnx\", debug=True)\n",
    "sim = TinyPhysicsSimulator(noisy_driving_model, \"./data/02675.csv\", controller=testController2, debug=False)\n",
    "sim.rollout()"
   ]
  },
  {
   "cell_type": "code",
   "execution_count": 83,
   "metadata": {},
   "outputs": [
    {
     "data": {
      "text/plain": [
       "{'lataccel_cost': 4.603215606361677,\n",
       " 'jerk_cost': 50.25324543967904,\n",
       " 'total_cost': 280.4140257577629}"
      ]
     },
     "execution_count": 83,
     "metadata": {},
     "output_type": "execute_result"
    }
   ],
   "source": [
    "sim.compute_cost()"
   ]
  },
  {
   "cell_type": "code",
   "execution_count": 39,
   "metadata": {},
   "outputs": [
    {
     "data": {
      "image/png": "[encoded data removed]",
      "text/plain": [
       "<Figure size 720x360 with 1 Axes>"
      ]
     },
     "metadata": {
      "needs_background": "light"
     },
     "output_type": "display_data"
    }
   ],
   "source": [
    "plot_rollout(sim)"
   ]
  },
  {
   "cell_type": "code",
   "execution_count": 10,
   "metadata": {},
   "outputs": [],
   "source": [
    "from controllers import BaseController\n",
    "import numpy as np\n",
    "class Controller(BaseController):\n",
    "  \"\"\"\n",
    "  A simple PID controller\n",
    "  \"\"\"\n",
    "  def __init__(self,):\n",
    "    self.p = 0.085\n",
    "    self.i = 0.11\n",
    "    self.d = -0.0\n",
    "    self.error_integral = 0\n",
    "    self.prev_error = 0\n",
    "    self.n_updates= 0\n",
    "\n",
    "  def update(self, target_lataccel, current_lataccel, state, future_plan):\n",
    "      error = (target_lataccel - current_lataccel)\n",
    "      self.error_integral += error\n",
    "      error_diff = error - self.prev_error\n",
    "      self.prev_error = error\n",
    "      p = self.p\n",
    "      i = self.i\n",
    "      d = self.d\n",
    "      self.n_updates += 1\n",
    "      return p * error + i * self.error_integral + d * error_diff"
   ]
  },
  {
   "cell_type": "markdown",
   "metadata": {},
   "source": [
    "# RL"
   ]
  },
  {
   "cell_type": "code",
   "execution_count": 7,
   "metadata": {},
   "outputs": [
    {
     "name": "stderr",
     "output_type": "stream",
     "text": [
      "100%|██████████| 1/1 [00:00<00:00, 128.75it/s]\n"
     ]
    },
    {
     "data": {
      "text/html": [
       "<div>\n",
       "<style scoped>\n",
       "    .dataframe tbody tr th:only-of-type {\n",
       "        vertical-align: middle;\n",
       "    }\n",
       "\n",
       "    .dataframe tbody tr th {\n",
       "        vertical-align: top;\n",
       "    }\n",
       "\n",
       "    .dataframe thead th {\n",
       "        text-align: right;\n",
       "    }\n",
       "</style>\n",
       "<table border=\"1\" class=\"dataframe\">\n",
       "  <thead>\n",
       "    <tr style=\"text-align: right;\">\n",
       "      <th></th>\n",
       "      <th>t</th>\n",
       "      <th>vEgo</th>\n",
       "      <th>aEgo</th>\n",
       "      <th>roll</th>\n",
       "      <th>targetLateralAcceleration</th>\n",
       "      <th>steerCommand</th>\n",
       "      <th>shifted_target</th>\n",
       "    </tr>\n",
       "  </thead>\n",
       "  <tbody>\n",
       "    <tr>\n",
       "      <th>0</th>\n",
       "      <td>0.0</td>\n",
       "      <td>33.770260</td>\n",
       "      <td>-0.017300</td>\n",
       "      <td>0.037470</td>\n",
       "      <td>1.003864</td>\n",
       "      <td>-0.329734</td>\n",
       "      <td>0.000000</td>\n",
       "    </tr>\n",
       "    <tr>\n",
       "      <th>1</th>\n",
       "      <td>0.1</td>\n",
       "      <td>33.763533</td>\n",
       "      <td>-0.039069</td>\n",
       "      <td>0.037006</td>\n",
       "      <td>1.049681</td>\n",
       "      <td>-0.335021</td>\n",
       "      <td>1.003864</td>\n",
       "    </tr>\n",
       "    <tr>\n",
       "      <th>2</th>\n",
       "      <td>0.2</td>\n",
       "      <td>33.755949</td>\n",
       "      <td>-0.067940</td>\n",
       "      <td>0.036543</td>\n",
       "      <td>1.056292</td>\n",
       "      <td>-0.332706</td>\n",
       "      <td>1.049681</td>\n",
       "    </tr>\n",
       "    <tr>\n",
       "      <th>3</th>\n",
       "      <td>0.3</td>\n",
       "      <td>33.758334</td>\n",
       "      <td>-0.022276</td>\n",
       "      <td>0.036579</td>\n",
       "      <td>1.051750</td>\n",
       "      <td>-0.336199</td>\n",
       "      <td>1.056292</td>\n",
       "    </tr>\n",
       "    <tr>\n",
       "      <th>4</th>\n",
       "      <td>0.4</td>\n",
       "      <td>33.752904</td>\n",
       "      <td>-0.052032</td>\n",
       "      <td>0.036652</td>\n",
       "      <td>1.059831</td>\n",
       "      <td>-0.352662</td>\n",
       "      <td>1.051750</td>\n",
       "    </tr>\n",
       "  </tbody>\n",
       "</table>\n",
       "</div>"
      ],
      "text/plain": [
       "     t       vEgo      aEgo      roll  targetLateralAcceleration  \\\n",
       "0  0.0  33.770260 -0.017300  0.037470                   1.003864   \n",
       "1  0.1  33.763533 -0.039069  0.037006                   1.049681   \n",
       "2  0.2  33.755949 -0.067940  0.036543                   1.056292   \n",
       "3  0.3  33.758334 -0.022276  0.036579                   1.051750   \n",
       "4  0.4  33.752904 -0.052032  0.036652                   1.059831   \n",
       "\n",
       "   steerCommand  shifted_target  \n",
       "0     -0.329734        0.000000  \n",
       "1     -0.335021        1.003864  \n",
       "2     -0.332706        1.049681  \n",
       "3     -0.336199        1.056292  \n",
       "4     -0.352662        1.051750  "
      ]
     },
     "execution_count": 7,
     "metadata": {},
     "output_type": "execute_result"
    }
   ],
   "source": [
    "from tqdm import tqdm\n",
    "import pandas as pd\n",
    "dfs = []\n",
    "to_load = 1\n",
    "for i in tqdm(range(to_load), total=to_load):\n",
    "    num_str = str(i)\n",
    "    while len(num_str) < 5:\n",
    "        num_str = '0' + num_str\n",
    "    try:\n",
    "        temp = pd.read_csv(f'/notebooks/comma/controls_challenge/data/{num_str}.csv', sep=',')\n",
    "    except:\n",
    "        print(f'data/{num_str}.csv does not exist')\n",
    "    dfs.append(temp)\n",
    "df = pd.concat(dfs)\n",
    "df['shifted_target'] = df['targetLateralAcceleration'].shift(1).fillna(0)\n",
    "df.head()"
   ]
  },
  {
   "cell_type": "code",
   "execution_count": 7,
   "metadata": {},
   "outputs": [
    {
     "data": {
      "text/html": [
       "<div>\n",
       "<style scoped>\n",
       "    .dataframe tbody tr th:only-of-type {\n",
       "        vertical-align: middle;\n",
       "    }\n",
       "\n",
       "    .dataframe tbody tr th {\n",
       "        vertical-align: top;\n",
       "    }\n",
       "\n",
       "    .dataframe thead th {\n",
       "        text-align: right;\n",
       "    }\n",
       "</style>\n",
       "<table border=\"1\" class=\"dataframe\">\n",
       "  <thead>\n",
       "    <tr style=\"text-align: right;\">\n",
       "      <th></th>\n",
       "      <th>t</th>\n",
       "      <th>vEgo</th>\n",
       "      <th>aEgo</th>\n",
       "      <th>roll</th>\n",
       "      <th>targetLateralAcceleration</th>\n",
       "      <th>steerCommand</th>\n",
       "      <th>shifted_target</th>\n",
       "    </tr>\n",
       "  </thead>\n",
       "  <tbody>\n",
       "    <tr>\n",
       "      <th>count</th>\n",
       "      <td>600.000000</td>\n",
       "      <td>600.000000</td>\n",
       "      <td>600.000000</td>\n",
       "      <td>600.000000</td>\n",
       "      <td>600.000000</td>\n",
       "      <td>100.000000</td>\n",
       "      <td>600.000000</td>\n",
       "    </tr>\n",
       "    <tr>\n",
       "      <th>mean</th>\n",
       "      <td>29.950000</td>\n",
       "      <td>33.612789</td>\n",
       "      <td>-0.003472</td>\n",
       "      <td>0.000205</td>\n",
       "      <td>0.178489</td>\n",
       "      <td>-0.172597</td>\n",
       "      <td>0.178594</td>\n",
       "    </tr>\n",
       "    <tr>\n",
       "      <th>std</th>\n",
       "      <td>17.334936</td>\n",
       "      <td>0.202384</td>\n",
       "      <td>0.107305</td>\n",
       "      <td>0.032123</td>\n",
       "      <td>0.689039</td>\n",
       "      <td>0.137597</td>\n",
       "      <td>0.689007</td>\n",
       "    </tr>\n",
       "    <tr>\n",
       "      <th>min</th>\n",
       "      <td>0.000000</td>\n",
       "      <td>32.871269</td>\n",
       "      <td>-0.293251</td>\n",
       "      <td>-0.050939</td>\n",
       "      <td>-1.101664</td>\n",
       "      <td>-0.365672</td>\n",
       "      <td>-1.101664</td>\n",
       "    </tr>\n",
       "    <tr>\n",
       "      <th>25%</th>\n",
       "      <td>14.975000</td>\n",
       "      <td>33.580512</td>\n",
       "      <td>-0.066254</td>\n",
       "      <td>-0.020199</td>\n",
       "      <td>-0.123345</td>\n",
       "      <td>-0.285788</td>\n",
       "      <td>-0.123345</td>\n",
       "    </tr>\n",
       "    <tr>\n",
       "      <th>50%</th>\n",
       "      <td>29.950000</td>\n",
       "      <td>33.639732</td>\n",
       "      <td>-0.005913</td>\n",
       "      <td>-0.010522</td>\n",
       "      <td>0.025921</td>\n",
       "      <td>-0.187684</td>\n",
       "      <td>0.025921</td>\n",
       "    </tr>\n",
       "    <tr>\n",
       "      <th>75%</th>\n",
       "      <td>44.925000</td>\n",
       "      <td>33.696109</td>\n",
       "      <td>0.051604</td>\n",
       "      <td>0.036263</td>\n",
       "      <td>0.888899</td>\n",
       "      <td>-0.025493</td>\n",
       "      <td>0.888899</td>\n",
       "    </tr>\n",
       "    <tr>\n",
       "      <th>max</th>\n",
       "      <td>59.900000</td>\n",
       "      <td>33.957455</td>\n",
       "      <td>0.449283</td>\n",
       "      <td>0.048287</td>\n",
       "      <td>1.112067</td>\n",
       "      <td>0.033607</td>\n",
       "      <td>1.112067</td>\n",
       "    </tr>\n",
       "  </tbody>\n",
       "</table>\n",
       "</div>"
      ],
      "text/plain": [
       "                t        vEgo        aEgo        roll  \\\n",
       "count  600.000000  600.000000  600.000000  600.000000   \n",
       "mean    29.950000   33.612789   -0.003472    0.000205   \n",
       "std     17.334936    0.202384    0.107305    0.032123   \n",
       "min      0.000000   32.871269   -0.293251   -0.050939   \n",
       "25%     14.975000   33.580512   -0.066254   -0.020199   \n",
       "50%     29.950000   33.639732   -0.005913   -0.010522   \n",
       "75%     44.925000   33.696109    0.051604    0.036263   \n",
       "max     59.900000   33.957455    0.449283    0.048287   \n",
       "\n",
       "       targetLateralAcceleration  steerCommand  shifted_target  \n",
       "count                 600.000000    100.000000      600.000000  \n",
       "mean                    0.178489     -0.172597        0.178594  \n",
       "std                     0.689039      0.137597        0.689007  \n",
       "min                    -1.101664     -0.365672       -1.101664  \n",
       "25%                    -0.123345     -0.285788       -0.123345  \n",
       "50%                     0.025921     -0.187684        0.025921  \n",
       "75%                     0.888899     -0.025493        0.888899  \n",
       "max                     1.112067      0.033607        1.112067  "
      ]
     },
     "execution_count": 7,
     "metadata": {},
     "output_type": "execute_result"
    }
   ],
   "source": [
    "df.describe()"
   ]
  },
  {
   "cell_type": "code",
   "execution_count": 8,
   "metadata": {},
   "outputs": [],
   "source": [
    "from typing import Callable\n",
    "\n",
    "def linear_schedule(initial_value: float) -> Callable[[float], float]:\n",
    "    \"\"\"\n",
    "    Linear learning rate schedule.\n",
    "\n",
    "    :param initial_value: Initial learning rate.\n",
    "    :return: schedule that computes\n",
    "      current learning rate depending on remaining progress\n",
    "    \"\"\"\n",
    "    def func(progress_remaining: float) -> float:\n",
    "        \"\"\"\n",
    "        Progress will decrease from 1 (beginning) to 0.\n",
    "\n",
    "        :param progress_remaining:\n",
    "        :return: current learning rate\n",
    "        \"\"\"\n",
    "        return progress_remaining * initial_value\n",
    "\n",
    "    return func"
   ]
  },
  {
   "cell_type": "code",
   "execution_count": 26,
   "metadata": {},
   "outputs": [],
   "source": [
    "import gymnasium as gym\n",
    "import numpy as np\n",
    "from gymnasium import spaces\n",
    "import random\n",
    "\n",
    "\n",
    "class DriverEnv(gym.Env):\n",
    "    \"\"\"Custom Environment that follows gym interface.\"\"\"\n",
    "\n",
    "    metadata = {\"render_modes\": [\"console\"]}\n",
    "\n",
    "    def __init__(self, driving_model, filenames=None, baselines=None):\n",
    "        super().__init__()\n",
    "        self.action_space = spaces.Box(\n",
    "            low = -1, high = 1, shape = (1,), dtype = np.float32\n",
    "        )\n",
    "        self.driving_model = driving_model\n",
    "        self.physics_simulator = None\n",
    "        self.data = None\n",
    "        self.file_n = 0\n",
    "        self.baseline_simulator = None\n",
    "        self.filenames = filenames\n",
    "        self.baselines = baselines if baselines is not None else {}\n",
    "        self.exploration_done = True\n",
    "        self.observation_space = spaces.Dict(\n",
    "            spaces={\n",
    "                'CURRENT_INFO': spaces.Box(low=-np.inf, high=np.inf, shape=(11,)),\n",
    "                'CURRENT_LATACCEL_DIFF': spaces.Box(low=-np.inf, high=np.inf, shape=(49,)),\n",
    "                'FUTURE_LATACCEL': spaces.Box(low=-np.inf, high=np.inf, shape=(49,)),\n",
    "                'FUTURE_ROLL': spaces.Box(low=-np.inf, high=np.inf, shape=(49,)),\n",
    "                'FUTURE_VEL': spaces.Box(low=-np.inf, high=np.inf, shape=(49,)),\n",
    "                'FUTURE_A': spaces.Box(low=-np.inf, high=np.inf, shape=(49,)),\n",
    "                'PAST_LATACCEL': spaces.Box(low=-np.inf, high=np.inf, shape=(20,)),\n",
    "                'PAST_ACTIONS': spaces.Box(low=-np.inf, high=np.inf, shape=(20,)),\n",
    "                'PAST_ROLL': spaces.Box(low=-np.inf, high=np.inf, shape=(20,)),\n",
    "                'PAST_VEL': spaces.Box(low=-np.inf, high=np.inf, shape=(20,)),\n",
    "                'PAST_A': spaces.Box(low=-np.inf, high=np.inf, shape=(20,))\n",
    "            })\n",
    "        \n",
    "    def calculate_cost(self, target, pred, prev_current_lataccel):\n",
    "        lat_accel_cost = (target - pred)**2 * 100\n",
    "        jerk_cost = ((pred - prev_current_lataccel) / DEL_T)**2 * 100\n",
    "            \n",
    "        total_cost = (lat_accel_cost * LAT_ACCEL_COST_MULTIPLIER) + jerk_cost\n",
    "        return total_cost\n",
    "    \n",
    "    def update_array(self, array, newVal, limit=20):\n",
    "        array = np.append(array, newVal)\n",
    "        if len(array) > limit:\n",
    "            array = np.delete(array, 0)\n",
    "        return array\n",
    "    \n",
    "    def step(self, action):\n",
    "        prev_current_lataccel = self.physics_simulator.current_lataccel_history[self.physics_simulator.step_idx - 1]\n",
    "        baseline_prev_current_lataccel = self.baseline_simulator.current_lataccel_history[self.physics_simulator.step_idx - 1]\n",
    "        prev_target_lataccel = self.physics_simulator.get_state_target_futureplan(self.physics_simulator.step_idx)[1]\n",
    "        act = action[0]*2\n",
    "        last_action = self.last_actions[-1] if len(self.last_actions) > 0 else act\n",
    "\n",
    "        self.physics_simulator.step(act)\n",
    "        current_lataccel = self.physics_simulator.current_lataccel_history[self.physics_simulator.step_idx - 1]\n",
    "        baseline_current_lataccel = self.baseline_simulator.current_lataccel_history[self.physics_simulator.step_idx - 1]\n",
    "        \n",
    "        terminated = self.physics_simulator.step_idx == COST_END_IDX - 1\n",
    "        if terminated:\n",
    "            print(f'cost for {self.filename} is {self.physics_simulator.compute_cost()}')\n",
    "            s = self.physics_simulator.get_state_target_futureplan(self.physics_simulator.step_idx - 1)\n",
    "        else:\n",
    "            s = self.physics_simulator.get_state_target_futureplan(self.physics_simulator.step_idx)\n",
    "            \n",
    "        state = s[0]\n",
    "        target_lataccel = s[1]\n",
    "        future = FuturePlan(\n",
    "            lataccel=s[2].lataccel if len(s[2].lataccel) > 0 else [current_lataccel],\n",
    "            roll_lataccel=s[2].roll_lataccel if len(s[2].roll_lataccel) > 0 else [state.roll_lataccel],\n",
    "            v_ego=s[2].v_ego if len(s[2].v_ego) > 0 else [state.v_ego],\n",
    "            a_ego=s[2].a_ego if len(s[2].a_ego) > 0 else [state.a_ego]\n",
    "        )\n",
    "        \n",
    "        self.last_actions = self.update_array(self.last_actions, act, 10)\n",
    "        error = target_lataccel - current_lataccel\n",
    "        self.error_integral += error\n",
    "        error_diff = error - self.prev_error\n",
    "        self.prev_error = error\n",
    "        pid_action = error*0.085 + self.error_integral*0.11\n",
    "        \n",
    "        action_diff = act - last_action\n",
    "            \n",
    "        delta_cost = 0\n",
    "        actual_cost = self.calculate_cost(self.physics_simulator.target_lataccel_history[-1], current_lataccel, prev_current_lataccel)\n",
    "        baseline_cost = self.calculate_cost(self.physics_simulator.target_lataccel_history[-1], baseline_current_lataccel, baseline_prev_current_lataccel)\n",
    "        reward = baseline_cost - actual_cost\n",
    "        if abs(action_diff) > 0.3:\n",
    "            delta_cost = abs(action_diff)\n",
    "            reward -= delta_cost*1000\n",
    "            \n",
    "        self.rewards = np.append(self.rewards, reward)\n",
    "        future_diffs = np.diff(np.array(future.lataccel))\n",
    "        observation = {\n",
    "            'CURRENT_INFO': np.array([\n",
    "                target_lataccel, current_lataccel, action_diff, last_action,\n",
    "                error, self.prev_error, np.clip(self.error_integral, 100, -100),\n",
    "                np.mean((np.diff(np.array(future.lataccel[:10])) / DEL_T)**2), np.mean((future_diffs / DEL_T)**2),\n",
    "                np.mean(future.lataccel[:10]), np.mean(future.lataccel),\n",
    "            ]), \n",
    "            'CURRENT_LATACCEL_DIFF': np.array(future.lataccel - current_lataccel), \n",
    "            'FUTURE_LATACCEL': np.array(future.lataccel), \n",
    "            'FUTURE_ROLL':np.array(future.roll_lataccel), \n",
    "            'FUTURE_VEL':np.array(future.v_ego), \n",
    "            'FUTURE_A':np.array(future.a_ego),\n",
    "            'PAST_LATACCEL':np.array(self.physics_simulator.current_lataccel_history[-19:] + [current_lataccel]),\n",
    "            'PAST_ACTIONS': np.array(self.physics_simulator.action_history[-20:]),\n",
    "            'PAST_ROLL': np.array([s.roll_lataccel for s in self.physics_simulator.state_history[-19:]] + [state.roll_lataccel]),\n",
    "            'PAST_VEL': np.array([s.v_ego for s in self.physics_simulator.state_history[-19:]] + [state.v_ego]),\n",
    "            'PAST_A': np.array([s.a_ego for s in self.physics_simulator.state_history[-19:]] + [state.a_ego]),\n",
    "        }\n",
    "\n",
    "        if terminated:\n",
    "            #print(pd.DataFrame(self.observations).describe())\n",
    "            print(reward, np.mean(self.rewards))\n",
    "            return observation, reward, terminated, False, {}\n",
    "\n",
    "        truncated = False\n",
    "        info = {}\n",
    "            \n",
    "        return observation, reward, terminated, truncated, info\n",
    "\n",
    "    def reset(self, seed=None, options=None):\n",
    "        self.filename = None\n",
    "        self.filename = self.filenames[self.file_n]\n",
    "        self.file_n += 1\n",
    "        #n_file = random.randint(0, len(self.filenames) - 1)\n",
    "        #self.filename = self.filenames[n_file]\n",
    "            \n",
    "        if self.filenames is None:\n",
    "            #n_file = random.randint(0, 20000)\n",
    "            n_file = self.file_n\n",
    "            num_str = str(n_file)\n",
    "            while len(num_str) < 5:\n",
    "                num_str = '0' + num_str\n",
    "            self.filename = f'/notebooks/comma/controls_challenge/data/{num_str}.csv'\n",
    "\n",
    "        if self.file_n >= 20_000 or (self.filenames is not None and self.file_n >= len(self.filenames)):\n",
    "            self.file_n = 0\n",
    "        self.data = pd.read_csv(self.filename, sep=',')\n",
    "        self.cum_error = 0\n",
    "        self.prev_error = 0\n",
    "        self.observations = []\n",
    "        self.last_actions = np.array([])\n",
    "        self.rewards = np.array([])\n",
    "        self.last_action = 0\n",
    "        self.error_integral = 0\n",
    "        self.prev_error = 0\n",
    "        controller2 = pid.Controller()\n",
    "        controller = pid.Controller()\n",
    "        self.physics_simulator = MySimulator(self.driving_model, self.filename, controller=controller2, debug=False)\n",
    "        if self.filename in self.baselines: \n",
    "            self.baseline_simulator = self.baselines[self.filename]\n",
    "            cost = self.baseline_simulator.compute_cost()\n",
    "            print(f\"Retrieving cost for {self.filename}: {cost}\")\n",
    "        else:\n",
    "            self.baseline_simulator = TinyPhysicsSimulator(self.driving_model, self.filename, controller=controller, debug=False)\n",
    "            cost = self.baseline_simulator.rollout()\n",
    "            print(f\"Calculating cost for {self.filename}: {cost}\")\n",
    "            self.baselines[self.filename] = self.baseline_simulator\n",
    "        for i in range(20, 99):\n",
    "            self.physics_simulator.step(self.data.iloc[i]['steerCommand'])\n",
    "        observation, _, _, _, info = self.step(np.array([self.data.iloc[99]['steerCommand']*2]).astype(np.float32))\n",
    "        return observation, info\n",
    "\n",
    "    def render(self):\n",
    "        pass\n",
    "\n",
    "    def close(self):\n",
    "        pass"
   ]
  },
  {
   "cell_type": "code",
   "execution_count": 10,
   "metadata": {},
   "outputs": [
    {
     "name": "stdout",
     "output_type": "stream",
     "text": [
      "0.08504999999999999\n",
      "-0.7166666666666666\n"
     ]
    }
   ],
   "source": [
    "def transform_value(lower_bound, upper_bound, value):\n",
    "    og_min = -1\n",
    "    og_max = 1\n",
    "\n",
    "    # Apply the linear transformation formula\n",
    "    transformed_value = lower_bound + (value - og_min) * (upper_bound - lower_bound) / (og_max - og_min)\n",
    "\n",
    "    return transformed_value\n",
    "\n",
    "def inverse_transform_value(lower_bound, upper_bound, transformed_value):\n",
    "    # Apply the inverse linear transformation formula\n",
    "    original_value = (2 * (transformed_value - lower_bound) / (upper_bound - lower_bound)) - 1\n",
    "\n",
    "    return original_value\n",
    "\n",
    "print(transform_value(0, 0.6, -0.7165))\n",
    "print(inverse_transform_value(0, 0.6, 0.085))"
   ]
  },
  {
   "cell_type": "code",
   "execution_count": 11,
   "metadata": {},
   "outputs": [],
   "source": [
    "from typing import Callable\n",
    "\n",
    "def linear_schedule(initial_value: float) -> Callable[[float], float]:\n",
    "    \"\"\"\n",
    "    Linear learning rate schedule.\n",
    "\n",
    "    :param initial_value: Initial learning rate.\n",
    "    :return: schedule that computes\n",
    "      current learning rate depending on remaining progress\n",
    "    \"\"\"\n",
    "    def func(progress_remaining: float) -> float:\n",
    "        \"\"\"\n",
    "        Progress will decrease from 1 (beginning) to 0.\n",
    "\n",
    "        :param progress_remaining:\n",
    "        :return: current learning rate\n",
    "        \"\"\"\n",
    "        return progress_remaining * initial_value\n",
    "\n",
    "    return func"
   ]
  },
  {
   "cell_type": "code",
   "execution_count": 12,
   "metadata": {},
   "outputs": [],
   "source": [
    "from torch import nn\n",
    "import torch as th\n",
    "from stable_baselines3.common.preprocessing import get_flattened_obs_dim\n",
    "from stable_baselines3.common.torch_layers import BaseFeaturesExtractor\n",
    "\n",
    "class CustomCombinedExtractor(BaseFeaturesExtractor):\n",
    "    def __init__(self, observation_space: spaces.Dict):\n",
    "        super().__init__(observation_space, features_dim=1)\n",
    "\n",
    "        extractors: Dict[str, nn.Module] = {}\n",
    "\n",
    "        total_concat_size = 0\n",
    "        for key, subspace in observation_space.spaces.items():\n",
    "            if key != \"CURRENT_INFO\":\n",
    "                # Since the arrays have some local correlation we can reduce the dimensionality using first an average pooling and then passing it through an Linear layer.\n",
    "                extractors[key] = nn.Sequential(nn.AvgPool1d(5), nn.Linear(subspace.shape[0] // 5, 5), nn.Flatten())\n",
    "                total_concat_size += 5\n",
    "            else:\n",
    "                # The current info vector has no relationship between elements, so we just flatten it.\n",
    "                extractors[key] = nn.Flatten()\n",
    "                total_concat_size += get_flattened_obs_dim(subspace)\n",
    "\n",
    "        self.extractors = nn.ModuleDict(extractors)\n",
    "\n",
    "        # Update the features dim manually\n",
    "        self._features_dim = total_concat_size\n",
    "\n",
    "    def forward(self, observations) -> th.Tensor:\n",
    "        encoded_tensor_list = []\n",
    "\n",
    "        for key, extractor in self.extractors.items():\n",
    "            encoded_tensor_list.append(extractor(observations[key]))\n",
    "        return th.cat(encoded_tensor_list, dim=1)"
   ]
  },
  {
   "cell_type": "code",
   "execution_count": 32,
   "metadata": {
    "collapsed": true,
    "jupyter": {
     "outputs_hidden": true
    },
    "tags": []
   },
   "outputs": [
    {
     "ename": "FileNotFoundError",
     "evalue": "[Errno 2] No such file or directory: 'top500_20k.pkl'",
     "output_type": "error",
     "traceback": [
      "\u001b[0;31m---------------------------------------------------------------------------\u001b[0m",
      "\u001b[0;31mFileNotFoundError\u001b[0m                         Traceback (most recent call last)",
      "Input \u001b[0;32mIn [32]\u001b[0m, in \u001b[0;36m<cell line: 4>\u001b[0;34m()\u001b[0m\n\u001b[1;32m      1\u001b[0m \u001b[38;5;28;01mimport\u001b[39;00m \u001b[38;5;21;01mpickle\u001b[39;00m\n\u001b[1;32m      3\u001b[0m \u001b[38;5;66;03m# Load the relevant filenames according to the selectFiles.py script\u001b[39;00m\n\u001b[0;32m----> 4\u001b[0m \u001b[38;5;28;01mwith\u001b[39;00m \u001b[38;5;28;43mopen\u001b[39;49m\u001b[43m(\u001b[49m\u001b[38;5;124;43m'\u001b[39;49m\u001b[38;5;124;43mtop500_20k.pkl\u001b[39;49m\u001b[38;5;124;43m'\u001b[39;49m\u001b[43m,\u001b[49m\u001b[43m \u001b[49m\u001b[38;5;124;43m'\u001b[39;49m\u001b[38;5;124;43mrb\u001b[39;49m\u001b[38;5;124;43m'\u001b[39;49m\u001b[43m)\u001b[49m \u001b[38;5;28;01mas\u001b[39;00m handle:\n\u001b[1;32m      5\u001b[0m     filenames \u001b[38;5;241m=\u001b[39m pickle\u001b[38;5;241m.\u001b[39mload(handle)\n\u001b[1;32m      6\u001b[0m filenames \u001b[38;5;241m=\u001b[39m \u001b[38;5;28msorted\u001b[39m(\u001b[38;5;28mlist\u001b[39m(\u001b[38;5;28mset\u001b[39m(filenames \u001b[38;5;241m+\u001b[39m [\u001b[38;5;124m'\u001b[39m\u001b[38;5;124mdata/00000.csv\u001b[39m\u001b[38;5;124m'\u001b[39m, \u001b[38;5;124m'\u001b[39m\u001b[38;5;124mdata/00001.csv\u001b[39m\u001b[38;5;124m'\u001b[39m, \u001b[38;5;124m'\u001b[39m\u001b[38;5;124mdata/00002.csv\u001b[39m\u001b[38;5;124m'\u001b[39m, \u001b[38;5;124m'\u001b[39m\u001b[38;5;124mdata/00003.csv\u001b[39m\u001b[38;5;124m'\u001b[39m, \u001b[38;5;124m'\u001b[39m\u001b[38;5;124mdata/00004.csv\u001b[39m\u001b[38;5;124m'\u001b[39m, \u001b[38;5;124m'\u001b[39m\u001b[38;5;124mdata/00005.csv\u001b[39m\u001b[38;5;124m'\u001b[39m])))\n",
      "\u001b[0;31mFileNotFoundError\u001b[0m: [Errno 2] No such file or directory: 'top500_20k.pkl'"
     ]
    }
   ],
   "source": [
    "import pickle\n",
    "\n",
    "# Load the relevant filenames according to the selectFiles.py script\n",
    "with open('top500_20k.pkl', 'rb') as handle:\n",
    "    filenames = pickle.load(handle)\n",
    "filenames = sorted(list(set(filenames + ['data/00000.csv', 'data/00001.csv', 'data/00002.csv', 'data/00003.csv', 'data/00004.csv', 'data/00005.csv'])))\n",
    "#sorted(filenames)"
   ]
  },
  {
   "cell_type": "code",
   "execution_count": 14,
   "metadata": {},
   "outputs": [],
   "source": [
    "from stable_baselines3.common.vec_env import DummyVecEnv, SubprocVecEnv\n",
    "from stable_baselines3.common.utils import set_random_seed\n",
    "\n",
    "def make_env(env_id, rank, seed=0):\n",
    "    \"\"\"\n",
    "    Utility function for multiprocessed env.\n",
    "\n",
    "    :param env_id: (str) the environment ID\n",
    "    :param seed: (int) the inital seed for RNG\n",
    "    :param rank: (int) index of the subprocess\n",
    "    \"\"\"\n",
    "\n",
    "    def _init():\n",
    "        env = DriverEnv(driving_model, None, False, 0, filenames)\n",
    "        # use a seed for reproducibility\n",
    "        # Important: use a different seed for each environment\n",
    "        # otherwise they would generate the same experiences\n",
    "        env.reset(seed=seed + rank)\n",
    "        return env\n",
    "\n",
    "    set_random_seed(seed)\n",
    "    return _init"
   ]
  },
  {
   "cell_type": "code",
   "execution_count": 15,
   "metadata": {
    "collapsed": true,
    "jupyter": {
     "outputs_hidden": true
    },
    "tags": []
   },
   "outputs": [
    {
     "name": "stderr",
     "output_type": "stream",
     "text": [
      "\u001b[34m\u001b[1mwandb\u001b[0m: Logging into wandb.ai. (Learn how to deploy a W&B server locally: https://wandb.me/wandb-server)\n",
      "\u001b[34m\u001b[1mwandb\u001b[0m: You can find your API key in your browser here: https://wandb.ai/authorize\n",
      "\u001b[34m\u001b[1mwandb\u001b[0m: Paste an API key from your profile and hit enter, or press ctrl+c to quit:\n"
     ]
    },
    {
     "ename": "Abort",
     "evalue": "",
     "output_type": "error",
     "traceback": [
      "\u001b[0;31m---------------------------------------------------------------------------\u001b[0m",
      "\u001b[0;31mAbort\u001b[0m                                     Traceback (most recent call last)",
      "Input \u001b[0;32mIn [15]\u001b[0m, in \u001b[0;36m<cell line: 9>\u001b[0;34m()\u001b[0m\n\u001b[1;32m      2\u001b[0m \u001b[38;5;28;01mfrom\u001b[39;00m \u001b[38;5;21;01mwandb\u001b[39;00m\u001b[38;5;21;01m.\u001b[39;00m\u001b[38;5;21;01mintegration\u001b[39;00m\u001b[38;5;21;01m.\u001b[39;00m\u001b[38;5;21;01msb3\u001b[39;00m \u001b[38;5;28;01mimport\u001b[39;00m WandbCallback\n\u001b[1;32m      4\u001b[0m config \u001b[38;5;241m=\u001b[39m {\n\u001b[1;32m      5\u001b[0m     \u001b[38;5;124m\"\u001b[39m\u001b[38;5;124mpolicy_type\u001b[39m\u001b[38;5;124m\"\u001b[39m: \u001b[38;5;124m\"\u001b[39m\u001b[38;5;124mMlpLstmPolicy\u001b[39m\u001b[38;5;124m\"\u001b[39m,\n\u001b[1;32m      6\u001b[0m     \u001b[38;5;124m\"\u001b[39m\u001b[38;5;124mtotal_timesteps\u001b[39m\u001b[38;5;124m\"\u001b[39m: \u001b[38;5;241m1_000_000\u001b[39m,\n\u001b[1;32m      7\u001b[0m     \u001b[38;5;124m\"\u001b[39m\u001b[38;5;124menv_name\u001b[39m\u001b[38;5;124m\"\u001b[39m: \u001b[38;5;124m\"\u001b[39m\u001b[38;5;124mDriverEnv\u001b[39m\u001b[38;5;124m\"\u001b[39m,\n\u001b[1;32m      8\u001b[0m }\n\u001b[0;32m----> 9\u001b[0m run \u001b[38;5;241m=\u001b[39m \u001b[43mwandb\u001b[49m\u001b[38;5;241;43m.\u001b[39;49m\u001b[43minit\u001b[49m\u001b[43m(\u001b[49m\n\u001b[1;32m     10\u001b[0m \u001b[43m    \u001b[49m\u001b[43mproject\u001b[49m\u001b[38;5;241;43m=\u001b[39;49m\u001b[38;5;124;43m\"\u001b[39;49m\u001b[38;5;124;43msb3\u001b[39;49m\u001b[38;5;124;43m\"\u001b[39;49m\u001b[43m,\u001b[49m\n\u001b[1;32m     11\u001b[0m \u001b[43m    \u001b[49m\u001b[43mconfig\u001b[49m\u001b[38;5;241;43m=\u001b[39;49m\u001b[43mconfig\u001b[49m\u001b[43m,\u001b[49m\n\u001b[1;32m     12\u001b[0m \u001b[43m    \u001b[49m\u001b[43msync_tensorboard\u001b[49m\u001b[38;5;241;43m=\u001b[39;49m\u001b[38;5;28;43;01mTrue\u001b[39;49;00m\u001b[43m,\u001b[49m\u001b[43m  \u001b[49m\u001b[38;5;66;43;03m# auto-upload sb3's tensorboard metrics\u001b[39;49;00m\n\u001b[1;32m     13\u001b[0m \u001b[43m    \u001b[49m\u001b[43mmonitor_gym\u001b[49m\u001b[38;5;241;43m=\u001b[39;49m\u001b[38;5;28;43;01mFalse\u001b[39;49;00m\u001b[43m,\u001b[49m\u001b[43m  \u001b[49m\u001b[38;5;66;43;03m# auto-upload the videos of agents playing the game\u001b[39;49;00m\n\u001b[1;32m     14\u001b[0m \u001b[43m    \u001b[49m\u001b[43msave_code\u001b[49m\u001b[38;5;241;43m=\u001b[39;49m\u001b[38;5;28;43;01mTrue\u001b[39;49;00m\u001b[43m,\u001b[49m\u001b[43m  \u001b[49m\u001b[38;5;66;43;03m# optional\u001b[39;49;00m\n\u001b[1;32m     15\u001b[0m \u001b[43m)\u001b[49m\n",
      "File \u001b[0;32m/usr/local/lib/python3.9/dist-packages/wandb/sdk/wandb_init.py:1185\u001b[0m, in \u001b[0;36minit\u001b[0;34m(job_type, dir, config, project, entity, reinit, tags, group, name, notes, magic, config_exclude_keys, config_include_keys, anonymous, mode, allow_val_change, resume, force, tensorboard, sync_tensorboard, monitor_gym, save_code, id, fork_from, resume_from, settings)\u001b[0m\n\u001b[1;32m   1181\u001b[0m     logger\u001b[38;5;241m.\u001b[39mexception(\u001b[38;5;124m\"\u001b[39m\u001b[38;5;124merror in wandb.init()\u001b[39m\u001b[38;5;124m\"\u001b[39m, exc_info\u001b[38;5;241m=\u001b[39me)\n\u001b[1;32m   1183\u001b[0m \u001b[38;5;66;03m# Need to build delay into this sentry capture because our exit hooks\u001b[39;00m\n\u001b[1;32m   1184\u001b[0m \u001b[38;5;66;03m# mess with sentry's ability to send out errors before the program ends.\u001b[39;00m\n\u001b[0;32m-> 1185\u001b[0m \u001b[43mwandb\u001b[49m\u001b[38;5;241;43m.\u001b[39;49m\u001b[43m_sentry\u001b[49m\u001b[38;5;241;43m.\u001b[39;49m\u001b[43mreraise\u001b[49m\u001b[43m(\u001b[49m\u001b[43me\u001b[49m\u001b[43m)\u001b[49m\n\u001b[1;32m   1186\u001b[0m \u001b[38;5;28;01mraise\u001b[39;00m \u001b[38;5;167;01mAssertionError\u001b[39;00m()\n",
      "File \u001b[0;32m/usr/local/lib/python3.9/dist-packages/wandb/analytics/sentry.py:155\u001b[0m, in \u001b[0;36mSentry.reraise\u001b[0;34m(self, exc)\u001b[0m\n\u001b[1;32m    152\u001b[0m \u001b[38;5;28mself\u001b[39m\u001b[38;5;241m.\u001b[39mexception(exc)\n\u001b[1;32m    153\u001b[0m \u001b[38;5;66;03m# this will messily add this \"reraise\" function to the stack trace,\u001b[39;00m\n\u001b[1;32m    154\u001b[0m \u001b[38;5;66;03m# but hopefully it's not too bad\u001b[39;00m\n\u001b[0;32m--> 155\u001b[0m \u001b[38;5;28;01mraise\u001b[39;00m exc\u001b[38;5;241m.\u001b[39mwith_traceback(sys\u001b[38;5;241m.\u001b[39mexc_info()[\u001b[38;5;241m2\u001b[39m])\n",
      "File \u001b[0;32m/usr/local/lib/python3.9/dist-packages/wandb/sdk/wandb_init.py:1170\u001b[0m, in \u001b[0;36minit\u001b[0;34m(job_type, dir, config, project, entity, reinit, tags, group, name, notes, magic, config_exclude_keys, config_include_keys, anonymous, mode, allow_val_change, resume, force, tensorboard, sync_tensorboard, monitor_gym, save_code, id, fork_from, resume_from, settings)\u001b[0m\n\u001b[1;32m   1168\u001b[0m \u001b[38;5;28;01mtry\u001b[39;00m:\n\u001b[1;32m   1169\u001b[0m     wi \u001b[38;5;241m=\u001b[39m _WandbInit()\n\u001b[0;32m-> 1170\u001b[0m     \u001b[43mwi\u001b[49m\u001b[38;5;241;43m.\u001b[39;49m\u001b[43msetup\u001b[49m\u001b[43m(\u001b[49m\u001b[43mkwargs\u001b[49m\u001b[43m)\u001b[49m\n\u001b[1;32m   1171\u001b[0m     \u001b[38;5;28;01mreturn\u001b[39;00m wi\u001b[38;5;241m.\u001b[39minit()\n\u001b[1;32m   1173\u001b[0m \u001b[38;5;28;01mexcept\u001b[39;00m \u001b[38;5;167;01mKeyboardInterrupt\u001b[39;00m \u001b[38;5;28;01mas\u001b[39;00m e:\n",
      "File \u001b[0;32m/usr/local/lib/python3.9/dist-packages/wandb/sdk/wandb_init.py:300\u001b[0m, in \u001b[0;36m_WandbInit.setup\u001b[0;34m(self, kwargs)\u001b[0m\n\u001b[1;32m    297\u001b[0m     settings\u001b[38;5;241m.\u001b[39mupdate(init_settings, source\u001b[38;5;241m=\u001b[39mSource\u001b[38;5;241m.\u001b[39mINIT)\n\u001b[1;32m    299\u001b[0m \u001b[38;5;28;01mif\u001b[39;00m \u001b[38;5;129;01mnot\u001b[39;00m settings\u001b[38;5;241m.\u001b[39m_offline \u001b[38;5;129;01mand\u001b[39;00m \u001b[38;5;129;01mnot\u001b[39;00m settings\u001b[38;5;241m.\u001b[39m_noop:\n\u001b[0;32m--> 300\u001b[0m     \u001b[43mwandb_login\u001b[49m\u001b[38;5;241;43m.\u001b[39;49m\u001b[43m_login\u001b[49m\u001b[43m(\u001b[49m\n\u001b[1;32m    301\u001b[0m \u001b[43m        \u001b[49m\u001b[43manonymous\u001b[49m\u001b[38;5;241;43m=\u001b[39;49m\u001b[43mkwargs\u001b[49m\u001b[38;5;241;43m.\u001b[39;49m\u001b[43mpop\u001b[49m\u001b[43m(\u001b[49m\u001b[38;5;124;43m\"\u001b[39;49m\u001b[38;5;124;43manonymous\u001b[39;49m\u001b[38;5;124;43m\"\u001b[39;49m\u001b[43m,\u001b[49m\u001b[43m \u001b[49m\u001b[38;5;28;43;01mNone\u001b[39;49;00m\u001b[43m)\u001b[49m\u001b[43m,\u001b[49m\n\u001b[1;32m    302\u001b[0m \u001b[43m        \u001b[49m\u001b[43mforce\u001b[49m\u001b[38;5;241;43m=\u001b[39;49m\u001b[43mkwargs\u001b[49m\u001b[38;5;241;43m.\u001b[39;49m\u001b[43mpop\u001b[49m\u001b[43m(\u001b[49m\u001b[38;5;124;43m\"\u001b[39;49m\u001b[38;5;124;43mforce\u001b[39;49m\u001b[38;5;124;43m\"\u001b[39;49m\u001b[43m,\u001b[49m\u001b[43m \u001b[49m\u001b[38;5;28;43;01mNone\u001b[39;49;00m\u001b[43m)\u001b[49m\u001b[43m,\u001b[49m\n\u001b[1;32m    303\u001b[0m \u001b[43m        \u001b[49m\u001b[43m_disable_warning\u001b[49m\u001b[38;5;241;43m=\u001b[39;49m\u001b[38;5;28;43;01mTrue\u001b[39;49;00m\u001b[43m,\u001b[49m\n\u001b[1;32m    304\u001b[0m \u001b[43m        \u001b[49m\u001b[43m_silent\u001b[49m\u001b[38;5;241;43m=\u001b[39;49m\u001b[43msettings\u001b[49m\u001b[38;5;241;43m.\u001b[39;49m\u001b[43mquiet\u001b[49m\u001b[43m \u001b[49m\u001b[38;5;129;43;01mor\u001b[39;49;00m\u001b[43m \u001b[49m\u001b[43msettings\u001b[49m\u001b[38;5;241;43m.\u001b[39;49m\u001b[43msilent\u001b[49m\u001b[43m,\u001b[49m\n\u001b[1;32m    305\u001b[0m \u001b[43m        \u001b[49m\u001b[43m_entity\u001b[49m\u001b[38;5;241;43m=\u001b[39;49m\u001b[43mkwargs\u001b[49m\u001b[38;5;241;43m.\u001b[39;49m\u001b[43mget\u001b[49m\u001b[43m(\u001b[49m\u001b[38;5;124;43m\"\u001b[39;49m\u001b[38;5;124;43mentity\u001b[39;49m\u001b[38;5;124;43m\"\u001b[39;49m\u001b[43m)\u001b[49m\u001b[43m \u001b[49m\u001b[38;5;129;43;01mor\u001b[39;49;00m\u001b[43m \u001b[49m\u001b[43msettings\u001b[49m\u001b[38;5;241;43m.\u001b[39;49m\u001b[43mentity\u001b[49m\u001b[43m,\u001b[49m\n\u001b[1;32m    306\u001b[0m \u001b[43m    \u001b[49m\u001b[43m)\u001b[49m\n\u001b[1;32m    308\u001b[0m \u001b[38;5;66;03m# apply updated global state after login was handled\u001b[39;00m\n\u001b[1;32m    309\u001b[0m wl \u001b[38;5;241m=\u001b[39m wandb\u001b[38;5;241m.\u001b[39msetup()\n",
      "File \u001b[0;32m/usr/local/lib/python3.9/dist-packages/wandb/sdk/wandb_login.py:340\u001b[0m, in \u001b[0;36m_login\u001b[0;34m(anonymous, key, relogin, host, force, timeout, _backend, _silent, _disable_warning, _entity)\u001b[0m\n\u001b[1;32m    337\u001b[0m     \u001b[38;5;28;01mreturn\u001b[39;00m logged_in\n\u001b[1;32m    339\u001b[0m \u001b[38;5;28;01mif\u001b[39;00m \u001b[38;5;129;01mnot\u001b[39;00m key:\n\u001b[0;32m--> 340\u001b[0m     \u001b[43mwlogin\u001b[49m\u001b[38;5;241;43m.\u001b[39;49m\u001b[43mprompt_api_key\u001b[49m\u001b[43m(\u001b[49m\u001b[43m)\u001b[49m\n\u001b[1;32m    342\u001b[0m \u001b[38;5;28;01mreturn\u001b[39;00m wlogin\u001b[38;5;241m.\u001b[39m_key \u001b[38;5;129;01mor\u001b[39;00m \u001b[38;5;28;01mFalse\u001b[39;00m\n",
      "File \u001b[0;32m/usr/local/lib/python3.9/dist-packages/wandb/sdk/wandb_login.py:270\u001b[0m, in \u001b[0;36m_WandbLogin.prompt_api_key\u001b[0;34m(self)\u001b[0m\n\u001b[1;32m    268\u001b[0m \u001b[38;5;28;01mdef\u001b[39;00m \u001b[38;5;21mprompt_api_key\u001b[39m(\u001b[38;5;28mself\u001b[39m) \u001b[38;5;241m-\u001b[39m\u001b[38;5;241m>\u001b[39m \u001b[38;5;28;01mNone\u001b[39;00m:\n\u001b[1;32m    269\u001b[0m     \u001b[38;5;124;03m\"\"\"Updates the global API key by prompting the user.\"\"\"\u001b[39;00m\n\u001b[0;32m--> 270\u001b[0m     key, status \u001b[38;5;241m=\u001b[39m \u001b[38;5;28;43mself\u001b[39;49m\u001b[38;5;241;43m.\u001b[39;49m\u001b[43m_prompt_api_key\u001b[49m\u001b[43m(\u001b[49m\u001b[43m)\u001b[49m\n\u001b[1;32m    271\u001b[0m     \u001b[38;5;28;01mif\u001b[39;00m status \u001b[38;5;241m==\u001b[39m ApiKeyStatus\u001b[38;5;241m.\u001b[39mNOTTY:\n\u001b[1;32m    272\u001b[0m         directive \u001b[38;5;241m=\u001b[39m (\n\u001b[1;32m    273\u001b[0m             \u001b[38;5;124m\"\u001b[39m\u001b[38;5;124mwandb login [your_api_key]\u001b[39m\u001b[38;5;124m\"\u001b[39m\n\u001b[1;32m    274\u001b[0m             \u001b[38;5;28;01mif\u001b[39;00m \u001b[38;5;28mself\u001b[39m\u001b[38;5;241m.\u001b[39m_settings\u001b[38;5;241m.\u001b[39m_cli_only_mode\n\u001b[1;32m    275\u001b[0m             \u001b[38;5;28;01melse\u001b[39;00m \u001b[38;5;124m\"\u001b[39m\u001b[38;5;124mwandb.login(key=[your_api_key])\u001b[39m\u001b[38;5;124m\"\u001b[39m\n\u001b[1;32m    276\u001b[0m         )\n",
      "File \u001b[0;32m/usr/local/lib/python3.9/dist-packages/wandb/sdk/wandb_login.py:249\u001b[0m, in \u001b[0;36m_WandbLogin._prompt_api_key\u001b[0;34m(self)\u001b[0m\n\u001b[1;32m    247\u001b[0m \u001b[38;5;28;01mwhile\u001b[39;00m \u001b[38;5;28;01mTrue\u001b[39;00m:\n\u001b[1;32m    248\u001b[0m     \u001b[38;5;28;01mtry\u001b[39;00m:\n\u001b[0;32m--> 249\u001b[0m         key \u001b[38;5;241m=\u001b[39m \u001b[43mapikey\u001b[49m\u001b[38;5;241;43m.\u001b[39;49m\u001b[43mprompt_api_key\u001b[49m\u001b[43m(\u001b[49m\n\u001b[1;32m    250\u001b[0m \u001b[43m            \u001b[49m\u001b[38;5;28;43mself\u001b[39;49m\u001b[38;5;241;43m.\u001b[39;49m\u001b[43m_settings\u001b[49m\u001b[43m,\u001b[49m\n\u001b[1;32m    251\u001b[0m \u001b[43m            \u001b[49m\u001b[43mapi\u001b[49m\u001b[38;5;241;43m=\u001b[39;49m\u001b[43mapi\u001b[49m\u001b[43m,\u001b[49m\n\u001b[1;32m    252\u001b[0m \u001b[43m            \u001b[49m\u001b[43mno_offline\u001b[49m\u001b[38;5;241;43m=\u001b[39;49m\u001b[38;5;28;43mself\u001b[39;49m\u001b[38;5;241;43m.\u001b[39;49m\u001b[43m_settings\u001b[49m\u001b[38;5;241;43m.\u001b[39;49m\u001b[43mforce\u001b[49m\u001b[43m \u001b[49m\u001b[38;5;28;43;01mif\u001b[39;49;00m\u001b[43m \u001b[49m\u001b[38;5;28;43mself\u001b[39;49m\u001b[38;5;241;43m.\u001b[39;49m\u001b[43m_settings\u001b[49m\u001b[43m \u001b[49m\u001b[38;5;28;43;01melse\u001b[39;49;00m\u001b[43m \u001b[49m\u001b[38;5;28;43;01mNone\u001b[39;49;00m\u001b[43m,\u001b[49m\n\u001b[1;32m    253\u001b[0m \u001b[43m            \u001b[49m\u001b[43mno_create\u001b[49m\u001b[38;5;241;43m=\u001b[39;49m\u001b[38;5;28;43mself\u001b[39;49m\u001b[38;5;241;43m.\u001b[39;49m\u001b[43m_settings\u001b[49m\u001b[38;5;241;43m.\u001b[39;49m\u001b[43mforce\u001b[49m\u001b[43m \u001b[49m\u001b[38;5;28;43;01mif\u001b[39;49;00m\u001b[43m \u001b[49m\u001b[38;5;28;43mself\u001b[39;49m\u001b[38;5;241;43m.\u001b[39;49m\u001b[43m_settings\u001b[49m\u001b[43m \u001b[49m\u001b[38;5;28;43;01melse\u001b[39;49;00m\u001b[43m \u001b[49m\u001b[38;5;28;43;01mNone\u001b[39;49;00m\u001b[43m,\u001b[49m\n\u001b[1;32m    254\u001b[0m \u001b[43m        \u001b[49m\u001b[43m)\u001b[49m\n\u001b[1;32m    255\u001b[0m     \u001b[38;5;28;01mexcept\u001b[39;00m \u001b[38;5;167;01mValueError\u001b[39;00m \u001b[38;5;28;01mas\u001b[39;00m e:\n\u001b[1;32m    256\u001b[0m         \u001b[38;5;66;03m# invalid key provided, try again\u001b[39;00m\n\u001b[1;32m    257\u001b[0m         wandb\u001b[38;5;241m.\u001b[39mtermerror(e\u001b[38;5;241m.\u001b[39margs[\u001b[38;5;241m0\u001b[39m])\n",
      "File \u001b[0;32m/usr/local/lib/python3.9/dist-packages/wandb/sdk/lib/apikey.py:151\u001b[0m, in \u001b[0;36mprompt_api_key\u001b[0;34m(settings, api, input_callback, browser_callback, no_offline, no_create, local)\u001b[0m\n\u001b[1;32m    145\u001b[0m         wandb\u001b[38;5;241m.\u001b[39mtermlog(\n\u001b[1;32m    146\u001b[0m             \u001b[38;5;124mf\u001b[39m\u001b[38;5;124m\"\u001b[39m\u001b[38;5;124mLogging into \u001b[39m\u001b[38;5;132;01m{\u001b[39;00mhost\u001b[38;5;132;01m}\u001b[39;00m\u001b[38;5;124m. (Learn how to deploy a W&B server locally: \u001b[39m\u001b[38;5;132;01m{\u001b[39;00mwburls\u001b[38;5;241m.\u001b[39mget(\u001b[38;5;124m'\u001b[39m\u001b[38;5;124mwandb_server\u001b[39m\u001b[38;5;124m'\u001b[39m)\u001b[38;5;132;01m}\u001b[39;00m\u001b[38;5;124m)\u001b[39m\u001b[38;5;124m\"\u001b[39m\n\u001b[1;32m    147\u001b[0m         )\n\u001b[1;32m    148\u001b[0m     wandb\u001b[38;5;241m.\u001b[39mtermlog(\n\u001b[1;32m    149\u001b[0m         \u001b[38;5;124mf\u001b[39m\u001b[38;5;124m\"\u001b[39m\u001b[38;5;124mYou can find your API key in your browser here: \u001b[39m\u001b[38;5;132;01m{\u001b[39;00mapp_url\u001b[38;5;132;01m}\u001b[39;00m\u001b[38;5;124m/authorize\u001b[39m\u001b[38;5;124m\"\u001b[39m\n\u001b[1;32m    150\u001b[0m     )\n\u001b[0;32m--> 151\u001b[0m     key \u001b[38;5;241m=\u001b[39m \u001b[43minput_callback\u001b[49m\u001b[43m(\u001b[49m\u001b[43mapi_ask\u001b[49m\u001b[43m)\u001b[49m\u001b[38;5;241m.\u001b[39mstrip()\n\u001b[1;32m    152\u001b[0m write_key(settings, key, api\u001b[38;5;241m=\u001b[39mapi)\n\u001b[1;32m    153\u001b[0m \u001b[38;5;28;01mreturn\u001b[39;00m key  \u001b[38;5;66;03m# type: ignore\u001b[39;00m\n",
      "File \u001b[0;32m/usr/local/lib/python3.9/dist-packages/click/termui.py:166\u001b[0m, in \u001b[0;36mprompt\u001b[0;34m(text, default, hide_input, confirmation_prompt, type, value_proc, prompt_suffix, show_default, err, show_choices)\u001b[0m\n\u001b[1;32m    164\u001b[0m \u001b[38;5;28;01mwhile\u001b[39;00m \u001b[38;5;28;01mTrue\u001b[39;00m:\n\u001b[1;32m    165\u001b[0m     \u001b[38;5;28;01mwhile\u001b[39;00m \u001b[38;5;28;01mTrue\u001b[39;00m:\n\u001b[0;32m--> 166\u001b[0m         value \u001b[38;5;241m=\u001b[39m \u001b[43mprompt_func\u001b[49m\u001b[43m(\u001b[49m\u001b[43mprompt\u001b[49m\u001b[43m)\u001b[49m\n\u001b[1;32m    167\u001b[0m         \u001b[38;5;28;01mif\u001b[39;00m value:\n\u001b[1;32m    168\u001b[0m             \u001b[38;5;28;01mbreak\u001b[39;00m\n",
      "File \u001b[0;32m/usr/local/lib/python3.9/dist-packages/click/termui.py:149\u001b[0m, in \u001b[0;36mprompt.<locals>.prompt_func\u001b[0;34m(text)\u001b[0m\n\u001b[1;32m    147\u001b[0m \u001b[38;5;28;01mif\u001b[39;00m hide_input:\n\u001b[1;32m    148\u001b[0m     echo(\u001b[38;5;28;01mNone\u001b[39;00m, err\u001b[38;5;241m=\u001b[39merr)\n\u001b[0;32m--> 149\u001b[0m \u001b[38;5;28;01mraise\u001b[39;00m Abort() \u001b[38;5;28;01mfrom\u001b[39;00m \u001b[38;5;28mNone\u001b[39m\n",
      "\u001b[0;31mAbort\u001b[0m: "
     ]
    }
   ],
   "source": [
    "import wandb\n",
    "from wandb.integration.sb3 import WandbCallback\n",
    "\n",
    "config = {\n",
    "    \"policy_type\": \"MultiInputPolicy\",\n",
    "    \"total_timesteps\": 1_000_000,\n",
    "    \"env_name\": \"DriverEnv\",\n",
    "}\n",
    "run = wandb.init(\n",
    "    project=\"sb3-comma\",\n",
    "    config=config,\n",
    "    sync_tensorboard=True,\n",
    "    monitor_gym=False,\n",
    "    save_code=True,\n",
    ")"
   ]
  },
  {
   "cell_type": "code",
   "execution_count": 16,
   "metadata": {},
   "outputs": [],
   "source": [
    "# script that generates baselines for a subset of filenames. Useful when debugging, to avoid recalculating again and again.\n",
    "def generate_baselines(filenames, driving_model):\n",
    "    baselines = {}\n",
    "    for file in tqdm(filenames, total=len(filenames)):\n",
    "        baseline_controller = pid.Controller()\n",
    "        baseline_simulator = TinyPhysicsSimulator(driving_model, file, controller=baseline_controller, debug=False) #TinyPhysicsSimulator\n",
    "        cost = baseline_simulator.rollout()\n",
    "        # print(f\"Calculating cost for {file}: {cost}\")\n",
    "        baselines[file] = baseline_simulator\n",
    "    return baselines"
   ]
  },
  {
   "cell_type": "code",
   "execution_count": 12,
   "metadata": {
    "collapsed": true,
    "jupyter": {
     "outputs_hidden": true
    },
    "tags": []
   },
   "outputs": [
    {
     "name": "stderr",
     "output_type": "stream",
     "text": [
      " 59%|█████▉    | 300/506 [06:41<04:35,  1.34s/it]\n"
     ]
    },
    {
     "ename": "KeyboardInterrupt",
     "evalue": "",
     "output_type": "error",
     "traceback": [
      "\u001b[0;31m---------------------------------------------------------------------------\u001b[0m",
      "\u001b[0;31mKeyboardInterrupt\u001b[0m                         Traceback (most recent call last)",
      "Input \u001b[0;32mIn [12]\u001b[0m, in \u001b[0;36m<cell line: 1>\u001b[0;34m()\u001b[0m\n\u001b[0;32m----> 1\u001b[0m baselines \u001b[38;5;241m=\u001b[39m \u001b[43mgenerate_baselines\u001b[49m\u001b[43m(\u001b[49m\u001b[43mfilenames\u001b[49m\u001b[43m)\u001b[49m\n",
      "Input \u001b[0;32mIn [11]\u001b[0m, in \u001b[0;36mgenerate_baselines\u001b[0;34m(filenames)\u001b[0m\n\u001b[1;32m      4\u001b[0m baseline_controller \u001b[38;5;241m=\u001b[39m pid\u001b[38;5;241m.\u001b[39mController()\n\u001b[1;32m      5\u001b[0m baseline_simulator \u001b[38;5;241m=\u001b[39m TinyPhysicsSimulator(driving_model, file, controller\u001b[38;5;241m=\u001b[39mbaseline_controller, debug\u001b[38;5;241m=\u001b[39m\u001b[38;5;28;01mFalse\u001b[39;00m) \u001b[38;5;66;03m#TinyPhysicsSimulator\u001b[39;00m\n\u001b[0;32m----> 6\u001b[0m cost \u001b[38;5;241m=\u001b[39m \u001b[43mbaseline_simulator\u001b[49m\u001b[38;5;241;43m.\u001b[39;49m\u001b[43mrollout\u001b[49m\u001b[43m(\u001b[49m\u001b[43m)\u001b[49m\n\u001b[1;32m      7\u001b[0m \u001b[38;5;66;03m# print(f\"Calculating cost for {file}: {cost}\")\u001b[39;00m\n\u001b[1;32m      8\u001b[0m baselines[file] \u001b[38;5;241m=\u001b[39m baseline_simulator\n",
      "File \u001b[0;32m/notebooks/comma/controls_challenge/tinyphysics.py:192\u001b[0m, in \u001b[0;36mTinyPhysicsSimulator.rollout\u001b[0;34m(self)\u001b[0m\n\u001b[1;32m    189\u001b[0m   fig, ax \u001b[38;5;241m=\u001b[39m plt\u001b[38;5;241m.\u001b[39msubplots(\u001b[38;5;241m4\u001b[39m, figsize\u001b[38;5;241m=\u001b[39m(\u001b[38;5;241m12\u001b[39m, \u001b[38;5;241m14\u001b[39m), constrained_layout\u001b[38;5;241m=\u001b[39m\u001b[38;5;28;01mTrue\u001b[39;00m)\n\u001b[1;32m    191\u001b[0m \u001b[38;5;28;01mfor\u001b[39;00m _ \u001b[38;5;129;01min\u001b[39;00m \u001b[38;5;28mrange\u001b[39m(CONTEXT_LENGTH, \u001b[38;5;28mlen\u001b[39m(\u001b[38;5;28mself\u001b[39m\u001b[38;5;241m.\u001b[39mdata)):\n\u001b[0;32m--> 192\u001b[0m   \u001b[38;5;28;43mself\u001b[39;49m\u001b[38;5;241;43m.\u001b[39;49m\u001b[43mstep\u001b[49m\u001b[43m(\u001b[49m\u001b[43m)\u001b[49m\n\u001b[1;32m    193\u001b[0m   \u001b[38;5;28;01mif\u001b[39;00m \u001b[38;5;28mself\u001b[39m\u001b[38;5;241m.\u001b[39mdebug \u001b[38;5;129;01mand\u001b[39;00m \u001b[38;5;28mself\u001b[39m\u001b[38;5;241m.\u001b[39mstep_idx \u001b[38;5;241m%\u001b[39m \u001b[38;5;241m10\u001b[39m \u001b[38;5;241m==\u001b[39m \u001b[38;5;241m0\u001b[39m:\n\u001b[1;32m    194\u001b[0m     \u001b[38;5;28mprint\u001b[39m(\u001b[38;5;124mf\u001b[39m\u001b[38;5;124m\"\u001b[39m\u001b[38;5;124mStep \u001b[39m\u001b[38;5;132;01m{\u001b[39;00m\u001b[38;5;28mself\u001b[39m\u001b[38;5;241m.\u001b[39mstep_idx\u001b[38;5;132;01m:\u001b[39;00m\u001b[38;5;124m<5\u001b[39m\u001b[38;5;132;01m}\u001b[39;00m\u001b[38;5;124m: Current lataccel: \u001b[39m\u001b[38;5;132;01m{\u001b[39;00m\u001b[38;5;28mself\u001b[39m\u001b[38;5;241m.\u001b[39mcurrent_lataccel\u001b[38;5;132;01m:\u001b[39;00m\u001b[38;5;124m>6.2f\u001b[39m\u001b[38;5;132;01m}\u001b[39;00m\u001b[38;5;124m, Target lataccel: \u001b[39m\u001b[38;5;132;01m{\u001b[39;00m\u001b[38;5;28mself\u001b[39m\u001b[38;5;241m.\u001b[39mtarget_lataccel_history[\u001b[38;5;241m-\u001b[39m\u001b[38;5;241m1\u001b[39m]\u001b[38;5;132;01m:\u001b[39;00m\u001b[38;5;124m>6.2f\u001b[39m\u001b[38;5;132;01m}\u001b[39;00m\u001b[38;5;124m\"\u001b[39m)\n",
      "File \u001b[0;32m/notebooks/comma/controls_challenge/tinyphysics.py:164\u001b[0m, in \u001b[0;36mTinyPhysicsSimulator.step\u001b[0;34m(self)\u001b[0m\n\u001b[1;32m    162\u001b[0m \u001b[38;5;28mself\u001b[39m\u001b[38;5;241m.\u001b[39mfutureplan \u001b[38;5;241m=\u001b[39m futureplan\n\u001b[1;32m    163\u001b[0m \u001b[38;5;28mself\u001b[39m\u001b[38;5;241m.\u001b[39mcontrol_step(\u001b[38;5;28mself\u001b[39m\u001b[38;5;241m.\u001b[39mstep_idx)\n\u001b[0;32m--> 164\u001b[0m \u001b[38;5;28;43mself\u001b[39;49m\u001b[38;5;241;43m.\u001b[39;49m\u001b[43msim_step\u001b[49m\u001b[43m(\u001b[49m\u001b[38;5;28;43mself\u001b[39;49m\u001b[38;5;241;43m.\u001b[39;49m\u001b[43mstep_idx\u001b[49m\u001b[43m)\u001b[49m\n\u001b[1;32m    165\u001b[0m \u001b[38;5;28mself\u001b[39m\u001b[38;5;241m.\u001b[39mstep_idx \u001b[38;5;241m+\u001b[39m\u001b[38;5;241m=\u001b[39m \u001b[38;5;241m1\u001b[39m\n",
      "File \u001b[0;32m/notebooks/comma/controls_challenge/tinyphysics.py:125\u001b[0m, in \u001b[0;36mTinyPhysicsSimulator.sim_step\u001b[0;34m(self, step_idx)\u001b[0m\n\u001b[1;32m    124\u001b[0m \u001b[38;5;28;01mdef\u001b[39;00m \u001b[38;5;21msim_step\u001b[39m(\u001b[38;5;28mself\u001b[39m, step_idx: \u001b[38;5;28mint\u001b[39m) \u001b[38;5;241m-\u001b[39m\u001b[38;5;241m>\u001b[39m \u001b[38;5;28;01mNone\u001b[39;00m:\n\u001b[0;32m--> 125\u001b[0m   pred \u001b[38;5;241m=\u001b[39m \u001b[38;5;28;43mself\u001b[39;49m\u001b[38;5;241;43m.\u001b[39;49m\u001b[43msim_model\u001b[49m\u001b[38;5;241;43m.\u001b[39;49m\u001b[43mget_current_lataccel\u001b[49m\u001b[43m(\u001b[49m\n\u001b[1;32m    126\u001b[0m \u001b[43m    \u001b[49m\u001b[43msim_states\u001b[49m\u001b[38;5;241;43m=\u001b[39;49m\u001b[38;5;28;43mself\u001b[39;49m\u001b[38;5;241;43m.\u001b[39;49m\u001b[43mstate_history\u001b[49m\u001b[43m[\u001b[49m\u001b[38;5;241;43m-\u001b[39;49m\u001b[43mCONTEXT_LENGTH\u001b[49m\u001b[43m:\u001b[49m\u001b[43m]\u001b[49m\u001b[43m,\u001b[49m\n\u001b[1;32m    127\u001b[0m \u001b[43m    \u001b[49m\u001b[43mactions\u001b[49m\u001b[38;5;241;43m=\u001b[39;49m\u001b[38;5;28;43mself\u001b[39;49m\u001b[38;5;241;43m.\u001b[39;49m\u001b[43maction_history\u001b[49m\u001b[43m[\u001b[49m\u001b[38;5;241;43m-\u001b[39;49m\u001b[43mCONTEXT_LENGTH\u001b[49m\u001b[43m:\u001b[49m\u001b[43m]\u001b[49m\u001b[43m,\u001b[49m\n\u001b[1;32m    128\u001b[0m \u001b[43m    \u001b[49m\u001b[43mpast_preds\u001b[49m\u001b[38;5;241;43m=\u001b[39;49m\u001b[38;5;28;43mself\u001b[39;49m\u001b[38;5;241;43m.\u001b[39;49m\u001b[43mcurrent_lataccel_history\u001b[49m\u001b[43m[\u001b[49m\u001b[38;5;241;43m-\u001b[39;49m\u001b[43mCONTEXT_LENGTH\u001b[49m\u001b[43m:\u001b[49m\u001b[43m]\u001b[49m\n\u001b[1;32m    129\u001b[0m \u001b[43m  \u001b[49m\u001b[43m)\u001b[49m\n\u001b[1;32m    130\u001b[0m   pred \u001b[38;5;241m=\u001b[39m np\u001b[38;5;241m.\u001b[39mclip(pred, \u001b[38;5;28mself\u001b[39m\u001b[38;5;241m.\u001b[39mcurrent_lataccel \u001b[38;5;241m-\u001b[39m MAX_ACC_DELTA, \u001b[38;5;28mself\u001b[39m\u001b[38;5;241m.\u001b[39mcurrent_lataccel \u001b[38;5;241m+\u001b[39m MAX_ACC_DELTA)\n\u001b[1;32m    131\u001b[0m   \u001b[38;5;28;01mif\u001b[39;00m step_idx \u001b[38;5;241m>\u001b[39m\u001b[38;5;241m=\u001b[39m CONTROL_START_IDX:\n",
      "File \u001b[0;32m/notebooks/comma/controls_challenge/tinyphysics.py:89\u001b[0m, in \u001b[0;36mTinyPhysicsModel.get_current_lataccel\u001b[0;34m(self, sim_states, actions, past_preds)\u001b[0m\n\u001b[1;32m     84\u001b[0m states \u001b[38;5;241m=\u001b[39m np\u001b[38;5;241m.\u001b[39mcolumn_stack([actions, raw_states])\n\u001b[1;32m     85\u001b[0m input_data \u001b[38;5;241m=\u001b[39m {\n\u001b[1;32m     86\u001b[0m   \u001b[38;5;124m'\u001b[39m\u001b[38;5;124mstates\u001b[39m\u001b[38;5;124m'\u001b[39m: np\u001b[38;5;241m.\u001b[39mexpand_dims(states, axis\u001b[38;5;241m=\u001b[39m\u001b[38;5;241m0\u001b[39m)\u001b[38;5;241m.\u001b[39mastype(np\u001b[38;5;241m.\u001b[39mfloat32),\n\u001b[1;32m     87\u001b[0m   \u001b[38;5;124m'\u001b[39m\u001b[38;5;124mtokens\u001b[39m\u001b[38;5;124m'\u001b[39m: np\u001b[38;5;241m.\u001b[39mexpand_dims(tokenized_actions, axis\u001b[38;5;241m=\u001b[39m\u001b[38;5;241m0\u001b[39m)\u001b[38;5;241m.\u001b[39mastype(np\u001b[38;5;241m.\u001b[39mint64)\n\u001b[1;32m     88\u001b[0m }\n\u001b[0;32m---> 89\u001b[0m \u001b[38;5;28;01mreturn\u001b[39;00m \u001b[38;5;28mself\u001b[39m\u001b[38;5;241m.\u001b[39mtokenizer\u001b[38;5;241m.\u001b[39mdecode(\u001b[38;5;28;43mself\u001b[39;49m\u001b[38;5;241;43m.\u001b[39;49m\u001b[43mpredict\u001b[49m\u001b[43m(\u001b[49m\u001b[43minput_data\u001b[49m\u001b[43m,\u001b[49m\u001b[43m \u001b[49m\u001b[43mtemperature\u001b[49m\u001b[38;5;241;43m=\u001b[39;49m\u001b[38;5;241;43m0.8\u001b[39;49m\u001b[43m)\u001b[49m)\n",
      "File \u001b[0;32m/notebooks/comma/controls_challenge/tinyphysics.py:73\u001b[0m, in \u001b[0;36mTinyPhysicsModel.predict\u001b[0;34m(self, input_data, temperature)\u001b[0m\n\u001b[1;32m     72\u001b[0m \u001b[38;5;28;01mdef\u001b[39;00m \u001b[38;5;21mpredict\u001b[39m(\u001b[38;5;28mself\u001b[39m, input_data: \u001b[38;5;28mdict\u001b[39m, temperature\u001b[38;5;241m=\u001b[39m\u001b[38;5;241m1.\u001b[39m) \u001b[38;5;241m-\u001b[39m\u001b[38;5;241m>\u001b[39m \u001b[38;5;28mint\u001b[39m:\n\u001b[0;32m---> 73\u001b[0m   res \u001b[38;5;241m=\u001b[39m \u001b[38;5;28;43mself\u001b[39;49m\u001b[38;5;241;43m.\u001b[39;49m\u001b[43mort_session\u001b[49m\u001b[38;5;241;43m.\u001b[39;49m\u001b[43mrun\u001b[49m\u001b[43m(\u001b[49m\u001b[38;5;28;43;01mNone\u001b[39;49;00m\u001b[43m,\u001b[49m\u001b[43m \u001b[49m\u001b[43minput_data\u001b[49m\u001b[43m)\u001b[49m[\u001b[38;5;241m0\u001b[39m]\n\u001b[1;32m     74\u001b[0m   probs \u001b[38;5;241m=\u001b[39m \u001b[38;5;28mself\u001b[39m\u001b[38;5;241m.\u001b[39msoftmax(res \u001b[38;5;241m/\u001b[39m temperature, axis\u001b[38;5;241m=\u001b[39m\u001b[38;5;241m-\u001b[39m\u001b[38;5;241m1\u001b[39m)\n\u001b[1;32m     75\u001b[0m   \u001b[38;5;66;03m# we only care about the last timestep (batch size is just 1)\u001b[39;00m\n",
      "File \u001b[0;32m/usr/local/lib/python3.9/dist-packages/onnxruntime/capi/onnxruntime_inference_collection.py:220\u001b[0m, in \u001b[0;36mSession.run\u001b[0;34m(self, output_names, input_feed, run_options)\u001b[0m\n\u001b[1;32m    218\u001b[0m     output_names \u001b[38;5;241m=\u001b[39m [output\u001b[38;5;241m.\u001b[39mname \u001b[38;5;28;01mfor\u001b[39;00m output \u001b[38;5;129;01min\u001b[39;00m \u001b[38;5;28mself\u001b[39m\u001b[38;5;241m.\u001b[39m_outputs_meta]\n\u001b[1;32m    219\u001b[0m \u001b[38;5;28;01mtry\u001b[39;00m:\n\u001b[0;32m--> 220\u001b[0m     \u001b[38;5;28;01mreturn\u001b[39;00m \u001b[38;5;28;43mself\u001b[39;49m\u001b[38;5;241;43m.\u001b[39;49m\u001b[43m_sess\u001b[49m\u001b[38;5;241;43m.\u001b[39;49m\u001b[43mrun\u001b[49m\u001b[43m(\u001b[49m\u001b[43moutput_names\u001b[49m\u001b[43m,\u001b[49m\u001b[43m \u001b[49m\u001b[43minput_feed\u001b[49m\u001b[43m,\u001b[49m\u001b[43m \u001b[49m\u001b[43mrun_options\u001b[49m\u001b[43m)\u001b[49m\n\u001b[1;32m    221\u001b[0m \u001b[38;5;28;01mexcept\u001b[39;00m C\u001b[38;5;241m.\u001b[39mEPFail \u001b[38;5;28;01mas\u001b[39;00m err:\n\u001b[1;32m    222\u001b[0m     \u001b[38;5;28;01mif\u001b[39;00m \u001b[38;5;28mself\u001b[39m\u001b[38;5;241m.\u001b[39m_enable_fallback:\n",
      "\u001b[0;31mKeyboardInterrupt\u001b[0m: "
     ]
    }
   ],
   "source": [
    "baselines = generate_baselines(filenames, driving_model)"
   ]
  },
  {
   "cell_type": "code",
   "execution_count": 31,
   "metadata": {
    "collapsed": true,
    "jupyter": {
     "outputs_hidden": true
    },
    "tags": []
   },
   "outputs": [
    {
     "name": "stdout",
     "output_type": "stream",
     "text": [
      "Using cuda device\n",
      "Calculating cost for data/00000.csv: {'lataccel_cost': 1.1237628257763492, 'jerk_cost': 4.8687022483257465, 'total_cost': 61.05684353714321}\n",
      "[State(roll_lataccel=-0.3007154063685968, v_ego=33.32436299965256, a_ego=-0.2374513247027602), State(roll_lataccel=-0.2943110189650837, v_ego=33.31081688140651, a_ego=-0.1806065369314036), State(roll_lataccel=-0.279465015592743, v_ego=33.29852714336525, a_ego=-0.1253102960661863), State(roll_lataccel=-0.2537273616516677, v_ego=33.2822185506563, a_ego=-0.1482251650572965), State(roll_lataccel=-0.22798795992537002, v_ego=33.263400810538585, a_ego=-0.1700220224837701), State(roll_lataccel=-0.21041320880576428, v_ego=33.24121172456742, a_ego=-0.1910827470101532), State(roll_lataccel=-0.19338081948940047, v_ego=33.23138689429119, a_ego=-0.1215728242930804), State(roll_lataccel=-0.1838912508632509, v_ego=33.21380496948331, a_ego=-0.1675996311295788), State(roll_lataccel=-0.18336672537167403, v_ego=33.198536943975775, a_ego=-0.1716793409062532), State(roll_lataccel=-0.1828421993556899, v_ego=33.16065953817271, a_ego=-0.2906474536273407), State(roll_lataccel=-0.18550824751785666, v_ego=33.13218279870085, a_ego=-0.2932514627477296), State(roll_lataccel=-0.18841069342363115, v_ego=33.11371949878182, a_ego=-0.2202767055416737), State(roll_lataccel=-0.1897570487499682, v_ego=33.092701788575894, a_ego=-0.180078406848252), State(roll_lataccel=-0.18925325117099787, v_ego=33.06127488022469, a_ego=-0.1973300125452555), State(roll_lataccel=-0.18874945309270777, v_ego=33.06595878406257, a_ego=-0.0801536111734464), State(roll_lataccel=-0.19005786153090776, v_ego=33.0444066009928, a_ego=-0.1362573682352367), State(roll_lataccel=-0.19150312309569106, v_ego=33.02336390419895, a_ego=-0.1563370717929247), State(roll_lataccel=-0.19141064975707678, v_ego=32.999185407094224, a_ego=-0.2085712700145275), State(roll_lataccel=-0.18934763979402502, v_ego=32.98306556665093, a_ego=-0.1778244111458547), State(roll_lataccel=-0.1872846214539798, v_ego=32.96299913055307, a_ego=-0.18070308667699)] [-1.627081036567688, -0.5217021703720093, 1.4974805116653442, 1.6542450189590454, 1.5531738996505737, 2.0, 2.0, 0.49358728528022766, -0.4084464907646179, 1.9410862922668457, -1.8988350629806519, -2.0, -0.7239188551902771, -2.0, 2.0, 0.32796981930732727, 0.09270617365837097, 2.0, 0.729414701461792, -0.10250940918922424] [-2.0, -1.5, -1.0, -1.5, -1.0, -0.5, -1.0, -0.5, 0.0, 0.5, 1.0, 1.5, 1.0, 0.5, 0.0, -0.5, -1.0, -1.5, -2.0, -1.5]\n"
     ]
    },
    {
     "ename": "UnboundLocalError",
     "evalue": "local variable 'pred' referenced before assignment",
     "output_type": "error",
     "traceback": [
      "\u001b[0;31m---------------------------------------------------------------------------\u001b[0m",
      "\u001b[0;31mUnboundLocalError\u001b[0m                         Traceback (most recent call last)",
      "Input \u001b[0;32mIn [31]\u001b[0m, in \u001b[0;36m<cell line: 21>\u001b[0;34m()\u001b[0m\n\u001b[1;32m     19\u001b[0m model \u001b[38;5;241m=\u001b[39m TRPO(\u001b[38;5;124m\"\u001b[39m\u001b[38;5;124mMultiInputPolicy\u001b[39m\u001b[38;5;124m\"\u001b[39m, env, verbose\u001b[38;5;241m=\u001b[39m\u001b[38;5;241m1\u001b[39m, batch_size\u001b[38;5;241m=\u001b[39m\u001b[38;5;241m256\u001b[39m, learning_rate\u001b[38;5;241m=\u001b[39mlinear_schedule(\u001b[38;5;241m0.001\u001b[39m), policy_kwargs\u001b[38;5;241m=\u001b[39mpolicy_kwargs)\n\u001b[1;32m     20\u001b[0m \u001b[38;5;66;03m#model.set_logger(new_logger) # In case we want to set a different logger. Useful for large training runs.\u001b[39;00m\n\u001b[0;32m---> 21\u001b[0m \u001b[43mmodel\u001b[49m\u001b[38;5;241;43m.\u001b[39;49m\u001b[43mlearn\u001b[49m\u001b[43m(\u001b[49m\u001b[43mtotal_timesteps\u001b[49m\u001b[38;5;241;43m=\u001b[39;49m\u001b[38;5;241;43m15_000_000\u001b[39;49m\u001b[43m,\u001b[49m\u001b[43m \u001b[49m\u001b[43mlog_interval\u001b[49m\u001b[43m \u001b[49m\u001b[38;5;241;43m=\u001b[39;49m\u001b[43m \u001b[49m\u001b[38;5;241;43m1\u001b[39;49m\u001b[43m,\u001b[49m\u001b[43m \u001b[49m\u001b[43mcallback\u001b[49m\u001b[38;5;241;43m=\u001b[39;49m\u001b[43m[\u001b[49m\u001b[43mcheckpoint_callback\u001b[49m\u001b[43m]\u001b[49m\u001b[43m)\u001b[49m\n",
      "File \u001b[0;32m/usr/local/lib/python3.9/dist-packages/sb3_contrib/trpo/trpo.py:419\u001b[0m, in \u001b[0;36mTRPO.learn\u001b[0;34m(self, total_timesteps, callback, log_interval, tb_log_name, reset_num_timesteps, progress_bar)\u001b[0m\n\u001b[1;32m    410\u001b[0m \u001b[38;5;28;01mdef\u001b[39;00m \u001b[38;5;21mlearn\u001b[39m(\n\u001b[1;32m    411\u001b[0m     \u001b[38;5;28mself\u001b[39m: SelfTRPO,\n\u001b[1;32m    412\u001b[0m     total_timesteps: \u001b[38;5;28mint\u001b[39m,\n\u001b[0;32m   (...)\u001b[0m\n\u001b[1;32m    417\u001b[0m     progress_bar: \u001b[38;5;28mbool\u001b[39m \u001b[38;5;241m=\u001b[39m \u001b[38;5;28;01mFalse\u001b[39;00m,\n\u001b[1;32m    418\u001b[0m ) \u001b[38;5;241m-\u001b[39m\u001b[38;5;241m>\u001b[39m SelfTRPO:\n\u001b[0;32m--> 419\u001b[0m     \u001b[38;5;28;01mreturn\u001b[39;00m \u001b[38;5;28;43msuper\u001b[39;49m\u001b[43m(\u001b[49m\u001b[43m)\u001b[49m\u001b[38;5;241;43m.\u001b[39;49m\u001b[43mlearn\u001b[49m\u001b[43m(\u001b[49m\n\u001b[1;32m    420\u001b[0m \u001b[43m        \u001b[49m\u001b[43mtotal_timesteps\u001b[49m\u001b[38;5;241;43m=\u001b[39;49m\u001b[43mtotal_timesteps\u001b[49m\u001b[43m,\u001b[49m\n\u001b[1;32m    421\u001b[0m \u001b[43m        \u001b[49m\u001b[43mcallback\u001b[49m\u001b[38;5;241;43m=\u001b[39;49m\u001b[43mcallback\u001b[49m\u001b[43m,\u001b[49m\n\u001b[1;32m    422\u001b[0m \u001b[43m        \u001b[49m\u001b[43mlog_interval\u001b[49m\u001b[38;5;241;43m=\u001b[39;49m\u001b[43mlog_interval\u001b[49m\u001b[43m,\u001b[49m\n\u001b[1;32m    423\u001b[0m \u001b[43m        \u001b[49m\u001b[43mtb_log_name\u001b[49m\u001b[38;5;241;43m=\u001b[39;49m\u001b[43mtb_log_name\u001b[49m\u001b[43m,\u001b[49m\n\u001b[1;32m    424\u001b[0m \u001b[43m        \u001b[49m\u001b[43mreset_num_timesteps\u001b[49m\u001b[38;5;241;43m=\u001b[39;49m\u001b[43mreset_num_timesteps\u001b[49m\u001b[43m,\u001b[49m\n\u001b[1;32m    425\u001b[0m \u001b[43m        \u001b[49m\u001b[43mprogress_bar\u001b[49m\u001b[38;5;241;43m=\u001b[39;49m\u001b[43mprogress_bar\u001b[49m\u001b[43m,\u001b[49m\n\u001b[1;32m    426\u001b[0m \u001b[43m    \u001b[49m\u001b[43m)\u001b[49m\n",
      "File \u001b[0;32m/usr/local/lib/python3.9/dist-packages/stable_baselines3/common/on_policy_algorithm.py:300\u001b[0m, in \u001b[0;36mOnPolicyAlgorithm.learn\u001b[0;34m(self, total_timesteps, callback, log_interval, tb_log_name, reset_num_timesteps, progress_bar)\u001b[0m\n\u001b[1;32m    297\u001b[0m \u001b[38;5;28;01massert\u001b[39;00m \u001b[38;5;28mself\u001b[39m\u001b[38;5;241m.\u001b[39menv \u001b[38;5;129;01mis\u001b[39;00m \u001b[38;5;129;01mnot\u001b[39;00m \u001b[38;5;28;01mNone\u001b[39;00m\n\u001b[1;32m    299\u001b[0m \u001b[38;5;28;01mwhile\u001b[39;00m \u001b[38;5;28mself\u001b[39m\u001b[38;5;241m.\u001b[39mnum_timesteps \u001b[38;5;241m<\u001b[39m total_timesteps:\n\u001b[0;32m--> 300\u001b[0m     continue_training \u001b[38;5;241m=\u001b[39m \u001b[38;5;28;43mself\u001b[39;49m\u001b[38;5;241;43m.\u001b[39;49m\u001b[43mcollect_rollouts\u001b[49m\u001b[43m(\u001b[49m\u001b[38;5;28;43mself\u001b[39;49m\u001b[38;5;241;43m.\u001b[39;49m\u001b[43menv\u001b[49m\u001b[43m,\u001b[49m\u001b[43m \u001b[49m\u001b[43mcallback\u001b[49m\u001b[43m,\u001b[49m\u001b[43m \u001b[49m\u001b[38;5;28;43mself\u001b[39;49m\u001b[38;5;241;43m.\u001b[39;49m\u001b[43mrollout_buffer\u001b[49m\u001b[43m,\u001b[49m\u001b[43m \u001b[49m\u001b[43mn_rollout_steps\u001b[49m\u001b[38;5;241;43m=\u001b[39;49m\u001b[38;5;28;43mself\u001b[39;49m\u001b[38;5;241;43m.\u001b[39;49m\u001b[43mn_steps\u001b[49m\u001b[43m)\u001b[49m\n\u001b[1;32m    302\u001b[0m     \u001b[38;5;28;01mif\u001b[39;00m \u001b[38;5;129;01mnot\u001b[39;00m continue_training:\n\u001b[1;32m    303\u001b[0m         \u001b[38;5;28;01mbreak\u001b[39;00m\n",
      "File \u001b[0;32m/usr/local/lib/python3.9/dist-packages/stable_baselines3/common/on_policy_algorithm.py:195\u001b[0m, in \u001b[0;36mOnPolicyAlgorithm.collect_rollouts\u001b[0;34m(self, env, callback, rollout_buffer, n_rollout_steps)\u001b[0m\n\u001b[1;32m    190\u001b[0m     \u001b[38;5;28;01melse\u001b[39;00m:\n\u001b[1;32m    191\u001b[0m         \u001b[38;5;66;03m# Otherwise, clip the actions to avoid out of bound error\u001b[39;00m\n\u001b[1;32m    192\u001b[0m         \u001b[38;5;66;03m# as we are sampling from an unbounded Gaussian distribution\u001b[39;00m\n\u001b[1;32m    193\u001b[0m         clipped_actions \u001b[38;5;241m=\u001b[39m np\u001b[38;5;241m.\u001b[39mclip(actions, \u001b[38;5;28mself\u001b[39m\u001b[38;5;241m.\u001b[39maction_space\u001b[38;5;241m.\u001b[39mlow, \u001b[38;5;28mself\u001b[39m\u001b[38;5;241m.\u001b[39maction_space\u001b[38;5;241m.\u001b[39mhigh)\n\u001b[0;32m--> 195\u001b[0m new_obs, rewards, dones, infos \u001b[38;5;241m=\u001b[39m \u001b[43menv\u001b[49m\u001b[38;5;241;43m.\u001b[39;49m\u001b[43mstep\u001b[49m\u001b[43m(\u001b[49m\u001b[43mclipped_actions\u001b[49m\u001b[43m)\u001b[49m\n\u001b[1;32m    197\u001b[0m \u001b[38;5;28mself\u001b[39m\u001b[38;5;241m.\u001b[39mnum_timesteps \u001b[38;5;241m+\u001b[39m\u001b[38;5;241m=\u001b[39m env\u001b[38;5;241m.\u001b[39mnum_envs\n\u001b[1;32m    199\u001b[0m \u001b[38;5;66;03m# Give access to local variables\u001b[39;00m\n",
      "File \u001b[0;32m/usr/local/lib/python3.9/dist-packages/stable_baselines3/common/vec_env/base_vec_env.py:206\u001b[0m, in \u001b[0;36mVecEnv.step\u001b[0;34m(self, actions)\u001b[0m\n\u001b[1;32m    199\u001b[0m \u001b[38;5;124;03m\"\"\"\u001b[39;00m\n\u001b[1;32m    200\u001b[0m \u001b[38;5;124;03mStep the environments with the given action\u001b[39;00m\n\u001b[1;32m    201\u001b[0m \n\u001b[1;32m    202\u001b[0m \u001b[38;5;124;03m:param actions: the action\u001b[39;00m\n\u001b[1;32m    203\u001b[0m \u001b[38;5;124;03m:return: observation, reward, done, information\u001b[39;00m\n\u001b[1;32m    204\u001b[0m \u001b[38;5;124;03m\"\"\"\u001b[39;00m\n\u001b[1;32m    205\u001b[0m \u001b[38;5;28mself\u001b[39m\u001b[38;5;241m.\u001b[39mstep_async(actions)\n\u001b[0;32m--> 206\u001b[0m \u001b[38;5;28;01mreturn\u001b[39;00m \u001b[38;5;28;43mself\u001b[39;49m\u001b[38;5;241;43m.\u001b[39;49m\u001b[43mstep_wait\u001b[49m\u001b[43m(\u001b[49m\u001b[43m)\u001b[49m\n",
      "File \u001b[0;32m/usr/local/lib/python3.9/dist-packages/stable_baselines3/common/vec_env/vec_normalize.py:181\u001b[0m, in \u001b[0;36mVecNormalize.step_wait\u001b[0;34m(self)\u001b[0m\n\u001b[1;32m    174\u001b[0m \u001b[38;5;28;01mdef\u001b[39;00m \u001b[38;5;21mstep_wait\u001b[39m(\u001b[38;5;28mself\u001b[39m) \u001b[38;5;241m-\u001b[39m\u001b[38;5;241m>\u001b[39m VecEnvStepReturn:\n\u001b[1;32m    175\u001b[0m     \u001b[38;5;124;03m\"\"\"\u001b[39;00m\n\u001b[1;32m    176\u001b[0m \u001b[38;5;124;03m    Apply sequence of actions to sequence of environments\u001b[39;00m\n\u001b[1;32m    177\u001b[0m \u001b[38;5;124;03m    actions -> (observations, rewards, dones)\u001b[39;00m\n\u001b[1;32m    178\u001b[0m \n\u001b[1;32m    179\u001b[0m \u001b[38;5;124;03m    where ``dones`` is a boolean vector indicating whether each element is new.\u001b[39;00m\n\u001b[1;32m    180\u001b[0m \u001b[38;5;124;03m    \"\"\"\u001b[39;00m\n\u001b[0;32m--> 181\u001b[0m     obs, rewards, dones, infos \u001b[38;5;241m=\u001b[39m \u001b[38;5;28;43mself\u001b[39;49m\u001b[38;5;241;43m.\u001b[39;49m\u001b[43mvenv\u001b[49m\u001b[38;5;241;43m.\u001b[39;49m\u001b[43mstep_wait\u001b[49m\u001b[43m(\u001b[49m\u001b[43m)\u001b[49m\n\u001b[1;32m    182\u001b[0m     \u001b[38;5;28;01massert\u001b[39;00m \u001b[38;5;28misinstance\u001b[39m(obs, (np\u001b[38;5;241m.\u001b[39mndarray, \u001b[38;5;28mdict\u001b[39m))  \u001b[38;5;66;03m# for mypy\u001b[39;00m\n\u001b[1;32m    183\u001b[0m     \u001b[38;5;28mself\u001b[39m\u001b[38;5;241m.\u001b[39mold_obs \u001b[38;5;241m=\u001b[39m obs\n",
      "File \u001b[0;32m/usr/local/lib/python3.9/dist-packages/stable_baselines3/common/vec_env/dummy_vec_env.py:58\u001b[0m, in \u001b[0;36mDummyVecEnv.step_wait\u001b[0;34m(self)\u001b[0m\n\u001b[1;32m     55\u001b[0m \u001b[38;5;28;01mdef\u001b[39;00m \u001b[38;5;21mstep_wait\u001b[39m(\u001b[38;5;28mself\u001b[39m) \u001b[38;5;241m-\u001b[39m\u001b[38;5;241m>\u001b[39m VecEnvStepReturn:\n\u001b[1;32m     56\u001b[0m     \u001b[38;5;66;03m# Avoid circular imports\u001b[39;00m\n\u001b[1;32m     57\u001b[0m     \u001b[38;5;28;01mfor\u001b[39;00m env_idx \u001b[38;5;129;01min\u001b[39;00m \u001b[38;5;28mrange\u001b[39m(\u001b[38;5;28mself\u001b[39m\u001b[38;5;241m.\u001b[39mnum_envs):\n\u001b[0;32m---> 58\u001b[0m         obs, \u001b[38;5;28mself\u001b[39m\u001b[38;5;241m.\u001b[39mbuf_rews[env_idx], terminated, truncated, \u001b[38;5;28mself\u001b[39m\u001b[38;5;241m.\u001b[39mbuf_infos[env_idx] \u001b[38;5;241m=\u001b[39m \u001b[38;5;28;43mself\u001b[39;49m\u001b[38;5;241;43m.\u001b[39;49m\u001b[43menvs\u001b[49m\u001b[43m[\u001b[49m\u001b[43menv_idx\u001b[49m\u001b[43m]\u001b[49m\u001b[38;5;241;43m.\u001b[39;49m\u001b[43mstep\u001b[49m\u001b[43m(\u001b[49m\n\u001b[1;32m     59\u001b[0m \u001b[43m            \u001b[49m\u001b[38;5;28;43mself\u001b[39;49m\u001b[38;5;241;43m.\u001b[39;49m\u001b[43mactions\u001b[49m\u001b[43m[\u001b[49m\u001b[43menv_idx\u001b[49m\u001b[43m]\u001b[49m\n\u001b[1;32m     60\u001b[0m \u001b[43m        \u001b[49m\u001b[43m)\u001b[49m\n\u001b[1;32m     61\u001b[0m         \u001b[38;5;66;03m# convert to SB3 VecEnv api\u001b[39;00m\n\u001b[1;32m     62\u001b[0m         \u001b[38;5;28mself\u001b[39m\u001b[38;5;241m.\u001b[39mbuf_dones[env_idx] \u001b[38;5;241m=\u001b[39m terminated \u001b[38;5;129;01mor\u001b[39;00m truncated\n",
      "File \u001b[0;32m/usr/local/lib/python3.9/dist-packages/stable_baselines3/common/monitor.py:94\u001b[0m, in \u001b[0;36mMonitor.step\u001b[0;34m(self, action)\u001b[0m\n\u001b[1;32m     92\u001b[0m \u001b[38;5;28;01mif\u001b[39;00m \u001b[38;5;28mself\u001b[39m\u001b[38;5;241m.\u001b[39mneeds_reset:\n\u001b[1;32m     93\u001b[0m     \u001b[38;5;28;01mraise\u001b[39;00m \u001b[38;5;167;01mRuntimeError\u001b[39;00m(\u001b[38;5;124m\"\u001b[39m\u001b[38;5;124mTried to step environment that needs reset\u001b[39m\u001b[38;5;124m\"\u001b[39m)\n\u001b[0;32m---> 94\u001b[0m observation, reward, terminated, truncated, info \u001b[38;5;241m=\u001b[39m \u001b[38;5;28;43mself\u001b[39;49m\u001b[38;5;241;43m.\u001b[39;49m\u001b[43menv\u001b[49m\u001b[38;5;241;43m.\u001b[39;49m\u001b[43mstep\u001b[49m\u001b[43m(\u001b[49m\u001b[43maction\u001b[49m\u001b[43m)\u001b[49m\n\u001b[1;32m     95\u001b[0m \u001b[38;5;28mself\u001b[39m\u001b[38;5;241m.\u001b[39mrewards\u001b[38;5;241m.\u001b[39mappend(\u001b[38;5;28mfloat\u001b[39m(reward))\n\u001b[1;32m     96\u001b[0m \u001b[38;5;28;01mif\u001b[39;00m terminated \u001b[38;5;129;01mor\u001b[39;00m truncated:\n",
      "Input \u001b[0;32mIn [26]\u001b[0m, in \u001b[0;36mDriverEnv.step\u001b[0;34m(self, action)\u001b[0m\n\u001b[1;32m     57\u001b[0m act \u001b[38;5;241m=\u001b[39m action[\u001b[38;5;241m0\u001b[39m]\u001b[38;5;241m*\u001b[39m\u001b[38;5;241m2\u001b[39m\n\u001b[1;32m     58\u001b[0m last_action \u001b[38;5;241m=\u001b[39m \u001b[38;5;28mself\u001b[39m\u001b[38;5;241m.\u001b[39mlast_actions[\u001b[38;5;241m-\u001b[39m\u001b[38;5;241m1\u001b[39m] \u001b[38;5;28;01mif\u001b[39;00m \u001b[38;5;28mlen\u001b[39m(\u001b[38;5;28mself\u001b[39m\u001b[38;5;241m.\u001b[39mlast_actions) \u001b[38;5;241m>\u001b[39m \u001b[38;5;241m0\u001b[39m \u001b[38;5;28;01melse\u001b[39;00m act\n\u001b[0;32m---> 60\u001b[0m \u001b[38;5;28;43mself\u001b[39;49m\u001b[38;5;241;43m.\u001b[39;49m\u001b[43mphysics_simulator\u001b[49m\u001b[38;5;241;43m.\u001b[39;49m\u001b[43mstep\u001b[49m\u001b[43m(\u001b[49m\u001b[43mact\u001b[49m\u001b[43m)\u001b[49m\n\u001b[1;32m     61\u001b[0m current_lataccel \u001b[38;5;241m=\u001b[39m \u001b[38;5;28mself\u001b[39m\u001b[38;5;241m.\u001b[39mphysics_simulator\u001b[38;5;241m.\u001b[39mcurrent_lataccel_history[\u001b[38;5;28mself\u001b[39m\u001b[38;5;241m.\u001b[39mphysics_simulator\u001b[38;5;241m.\u001b[39mstep_idx \u001b[38;5;241m-\u001b[39m \u001b[38;5;241m1\u001b[39m]\n\u001b[1;32m     62\u001b[0m baseline_current_lataccel \u001b[38;5;241m=\u001b[39m \u001b[38;5;28mself\u001b[39m\u001b[38;5;241m.\u001b[39mbaseline_simulator\u001b[38;5;241m.\u001b[39mcurrent_lataccel_history[\u001b[38;5;28mself\u001b[39m\u001b[38;5;241m.\u001b[39mphysics_simulator\u001b[38;5;241m.\u001b[39mstep_idx \u001b[38;5;241m-\u001b[39m \u001b[38;5;241m1\u001b[39m]\n",
      "Input \u001b[0;32mIn [3]\u001b[0m, in \u001b[0;36mMySimulator.step\u001b[0;34m(self, steer_action, force_action)\u001b[0m\n\u001b[1;32m     70\u001b[0m \u001b[38;5;28mself\u001b[39m\u001b[38;5;241m.\u001b[39mfutureplan \u001b[38;5;241m=\u001b[39m futureplan\n\u001b[1;32m     71\u001b[0m \u001b[38;5;28mself\u001b[39m\u001b[38;5;241m.\u001b[39mcontrol_step(\u001b[38;5;28mself\u001b[39m\u001b[38;5;241m.\u001b[39mstep_idx, steer_action, force_action)\n\u001b[0;32m---> 72\u001b[0m \u001b[38;5;28;43mself\u001b[39;49m\u001b[38;5;241;43m.\u001b[39;49m\u001b[43msim_step\u001b[49m\u001b[43m(\u001b[49m\u001b[38;5;28;43mself\u001b[39;49m\u001b[38;5;241;43m.\u001b[39;49m\u001b[43mstep_idx\u001b[49m\u001b[43m,\u001b[49m\u001b[43m \u001b[49m\u001b[43mforce_action\u001b[49m\u001b[43m)\u001b[49m\n\u001b[1;32m     73\u001b[0m \u001b[38;5;28mself\u001b[39m\u001b[38;5;241m.\u001b[39mstep_idx \u001b[38;5;241m+\u001b[39m\u001b[38;5;241m=\u001b[39m \u001b[38;5;241m1\u001b[39m\n",
      "Input \u001b[0;32mIn [3]\u001b[0m, in \u001b[0;36mMySimulator.sim_step\u001b[0;34m(self, step_idx, force_action)\u001b[0m\n\u001b[1;32m     33\u001b[0m \u001b[38;5;28;01mexcept\u001b[39;00m:\n\u001b[1;32m     34\u001b[0m     \u001b[38;5;28mprint\u001b[39m(\u001b[38;5;28mself\u001b[39m\u001b[38;5;241m.\u001b[39mstate_history[\u001b[38;5;241m-\u001b[39mCONTEXT_LENGTH:], \u001b[38;5;28mself\u001b[39m\u001b[38;5;241m.\u001b[39maction_history[\u001b[38;5;241m-\u001b[39mCONTEXT_LENGTH:], \u001b[38;5;28mself\u001b[39m\u001b[38;5;241m.\u001b[39mcurrent_lataccel_history[\u001b[38;5;241m-\u001b[39mCONTEXT_LENGTH:])\n\u001b[0;32m---> 35\u001b[0m pred \u001b[38;5;241m=\u001b[39m np\u001b[38;5;241m.\u001b[39mclip(\u001b[43mpred\u001b[49m, \u001b[38;5;28mself\u001b[39m\u001b[38;5;241m.\u001b[39mcurrent_lataccel \u001b[38;5;241m-\u001b[39m MAX_ACC_DELTA, \u001b[38;5;28mself\u001b[39m\u001b[38;5;241m.\u001b[39mcurrent_lataccel \u001b[38;5;241m+\u001b[39m MAX_ACC_DELTA)\n\u001b[1;32m     36\u001b[0m \u001b[38;5;28;01mif\u001b[39;00m step_idx \u001b[38;5;241m>\u001b[39m\u001b[38;5;241m=\u001b[39m CONTROL_START_IDX \u001b[38;5;129;01mor\u001b[39;00m force_action:\n\u001b[1;32m     37\u001b[0m     \u001b[38;5;28mself\u001b[39m\u001b[38;5;241m.\u001b[39mcurrent_lataccel \u001b[38;5;241m=\u001b[39m pred\n",
      "\u001b[0;31mUnboundLocalError\u001b[0m: local variable 'pred' referenced before assignment"
     ]
    }
   ],
   "source": [
    "from stable_baselines3 import PPO, A2C, TD3, SAC\n",
    "from sb3_contrib import TRPO, RecurrentPPO\n",
    "from stable_baselines3.common.callbacks import BaseCallback, EvalCallback, CheckpointCallback\n",
    "from stable_baselines3.common.env_util import make_vec_env\n",
    "from stable_baselines3.common.vec_env import VecNormalize, SubprocVecEnv\n",
    "from sb3_contrib.common.recurrent.policies import RecurrentActorCriticPolicy\n",
    "\n",
    "n_procs = 8 # adjust to your hardware.\n",
    "driving_model = MyPhysicsModel(\"./models/tinyphysics.onnx\", debug=False) # Load a driving model with low temperature\n",
    "checkpoint_callback = CheckpointCallback(save_freq=5e4, save_path='tmp/model_checkpoints2/', save_vecnormalize=True) # Save model each 50k steps for large training runs.\n",
    "env = DriverEnv(driving_model, filenames[:1], None)\n",
    "env = make_vec_env(lambda: env, n_envs=1) # Use this when debugging.\n",
    "#env = SubprocVecEnv([make_env(0, i, i*10) for i in range(n_procs)], start_method=\"fork\") # Use this when training.\n",
    "env = VecNormalize(env, norm_obs=True, norm_reward=True, clip_obs=300, clip_reward=np.inf) # ALWAYS normalize.\n",
    "policy_kwargs = dict(\n",
    "    normalize_images=False, # We do not need to normalize image, since we are not using images to train.\n",
    "    features_extractor_class=CustomCombinedExtractor, # We set the extractor defined previously\n",
    ")\n",
    "model = TRPO(\"MultiInputPolicy\", env, verbose=1, batch_size=256, learning_rate=linear_schedule(0.001), policy_kwargs=policy_kwargs)\n",
    "#model.set_logger(new_logger) # In case we want to set a different logger. Useful for large training runs.\n",
    "model.learn(total_timesteps=15_000_000, log_interval = 1, callback=[checkpoint_callback])"
   ]
  },
  {
   "cell_type": "code",
   "execution_count": null,
   "metadata": {
    "tags": []
   },
   "outputs": [],
   "source": [
    "env.close() # Do this after a SubprocVecEnv run or you will run into memory issues."
   ]
  },
  {
   "cell_type": "code",
   "execution_count": 30,
   "metadata": {
    "collapsed": true,
    "jupyter": {
     "outputs_hidden": true
    },
    "tags": []
   },
   "outputs": [
    {
     "ename": "NameError",
     "evalue": "name 'run' is not defined",
     "output_type": "error",
     "traceback": [
      "\u001b[0;31m---------------------------------------------------------------------------\u001b[0m",
      "\u001b[0;31mNameError\u001b[0m                                 Traceback (most recent call last)",
      "Input \u001b[0;32mIn [30]\u001b[0m, in \u001b[0;36m<cell line: 1>\u001b[0;34m()\u001b[0m\n\u001b[1;32m      1\u001b[0m model\u001b[38;5;241m.\u001b[39mlearn(total_timesteps\u001b[38;5;241m=\u001b[39m\u001b[38;5;241m15_000_000\u001b[39m, log_interval \u001b[38;5;241m=\u001b[39m \u001b[38;5;241m1\u001b[39m, callback\u001b[38;5;241m=\u001b[39m[\n\u001b[1;32m      2\u001b[0m     WandbCallback(\n\u001b[1;32m      3\u001b[0m         gradient_save_freq\u001b[38;5;241m=\u001b[39m\u001b[38;5;241m100\u001b[39m,\n\u001b[0;32m----> 4\u001b[0m         model_save_path\u001b[38;5;241m=\u001b[39m\u001b[38;5;124mf\u001b[39m\u001b[38;5;124m\"\u001b[39m\u001b[38;5;124mmodels/\u001b[39m\u001b[38;5;132;01m{\u001b[39;00mrun\u001b[38;5;241m.\u001b[39mid\u001b[38;5;132;01m}\u001b[39;00m\u001b[38;5;124m\"\u001b[39m,\n\u001b[1;32m      5\u001b[0m         verbose\u001b[38;5;241m=\u001b[39m\u001b[38;5;241m2\u001b[39m,\n\u001b[1;32m      6\u001b[0m     ), checkpoint_callback])\n",
      "\u001b[0;31mNameError\u001b[0m: name 'run' is not defined"
     ]
    }
   ],
   "source": [
    "model.learn(total_timesteps=15_000_000, log_interval = 1, callback=[\n",
    "    WandbCallback(\n",
    "        gradient_save_freq=100,\n",
    "        model_save_path=f\"models/{run.id}\",\n",
    "        verbose=2,\n",
    "    ), checkpoint_callback]) # In case we need to save the logs to wandb"
   ]
  },
  {
   "cell_type": "code",
   "execution_count": 29,
   "metadata": {},
   "outputs": [],
   "source": [
    "# Don't forget to save the VecNormalize statistics when saving the agent\n",
    "import os\n",
    "log_dir = \"/notebooks/comma/tmp/\"\n",
    "model.save(log_dir + \"TRPO_Steering\")\n",
    "stats_path = os.path.join(log_dir, \"TRPO_Steering_vec_normalize.pkl\")\n",
    "env.save(stats_path)"
   ]
  },
  {
   "cell_type": "code",
   "execution_count": 127,
   "metadata": {},
   "outputs": [],
   "source": [
    "import os\n",
    "from stable_baselines3 import PPO, A2C, TD3, SAC\n",
    "from sb3_contrib import TRPO, RecurrentPPO\n",
    "from stable_baselines3.common.env_util import make_vec_env\n",
    "from stable_baselines3.common.vec_env import VecNormalize, VecFrameStack\n",
    "\n",
    "# Commands to load the model.\n",
    "env = DriverEnv(driving_model, filenames, baselines)\n",
    "log_dir = \"/notebooks/comma/tmp/\"\n",
    "stats_path = os.path.join(log_dir, \"TRPO_Steering_vec_normalize.pkl\")\n",
    "env = make_vec_env(lambda: env, n_envs=1)\n",
    "env = VecNormalize.load(stats_path, env)\n",
    "# Set the training and norm flags accordingly if you want to train more or not.\n",
    "env.training = True\n",
    "env.norm_reward = True\n",
    "env.norm_obs = True\n",
    "env.clip_reward=np.inf\n",
    "env.clip_obs=300\n",
    "\n",
    "# Load the agent\n",
    "model = TRPO.load(log_dir + \"TRPO_Steering\", env=env, learning_rate=linear_schedule(0.001), batch_size=256, seed=42, verbose=1)"
   ]
  },
  {
   "cell_type": "code",
   "execution_count": 14,
   "metadata": {},
   "outputs": [
    {
     "name": "stdout",
     "output_type": "stream",
     "text": [
      "Logging to /notebooks/comma/tmp/logs/\n"
     ]
    }
   ],
   "source": [
    "from stable_baselines3.common.logger import configure\n",
    "\n",
    "tmp_path = \"/notebooks/comma/tmp/logs/\"\n",
    "# set up logger\n",
    "new_logger = configure(tmp_path, [\"stdout\", \"csv\"])"
   ]
  }
 ],
 "metadata": {
  "kernelspec": {
   "display_name": "Python 3 (ipykernel)",
   "language": "python",
   "name": "python3"
  },
  "language_info": {
   "codemirror_mode": {
    "name": "ipython",
    "version": 3
   },
   "file_extension": ".py",
   "mimetype": "text/x-python",
   "name": "python",
   "nbconvert_exporter": "python",
   "pygments_lexer": "ipython3",
   "version": "3.9.13"
  }
 },
 "nbformat": 4,
 "nbformat_minor": 4
}
